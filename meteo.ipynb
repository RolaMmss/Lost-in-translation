{
 "cells": [
  {
   "cell_type": "code",
   "execution_count": 25,
   "metadata": {},
   "outputs": [],
   "source": [
    "import sqlite3\n",
    "import pandas as pd\n",
    "\n",
    "# se connecter à la base de données SQLite\n",
    "connexion = sqlite3.connect(\"db_objets_trouves.db\")\n",
    "curseur = connexion.cursor()\n",
    "\n",
    "# créer la table pour stocker les données\n",
    "curseur.execute(\"\"\"\n",
    "    CREATE TABLE IF NOT EXISTS temperature (\n",
    "        id INTEGER PRIMARY KEY AUTOINCREMENT,\n",
    "        date TEXT NOT NULL,\n",
    "        temperature FLOAT NOT NULL\n",
    "    )\n",
    "\"\"\")\n",
    "\n",
    "# lire le fichier CSV dans un DataFrame pandas\n",
    "df = pd.read_csv(\"archive.csv\")\n",
    "\n",
    "# Insérer les données dans la table temperature\n",
    "for index, row in df.iterrows():\n",
    "    curseur.execute(\"INSERT INTO temperature (date, temperature) VALUES (?, ?)\", (row[\"time\"], row[\"temperature_2m_mean (°C)\"]))\n",
    "\n",
    "# Sauvegarder les modifications et fermer la connexion\n",
    "connexion.commit()\n",
    "connexion.close()\n",
    "\n"
   ]
  },
  {
   "cell_type": "code",
   "execution_count": 1,
   "metadata": {},
   "outputs": [
    {
     "ename": "NameError",
     "evalue": "name 'sqlite3' is not defined",
     "output_type": "error",
     "traceback": [
      "\u001b[1;31m---------------------------------------------------------------------------\u001b[0m",
      "\u001b[1;31mNameError\u001b[0m                                 Traceback (most recent call last)",
      "Cell \u001b[1;32mIn[1], line 5\u001b[0m\n\u001b[0;32m      2\u001b[0m \u001b[39mimport\u001b[39;00m \u001b[39mpandas\u001b[39;00m \u001b[39mas\u001b[39;00m \u001b[39mpd\u001b[39;00m\n\u001b[0;32m      4\u001b[0m \u001b[39m# se connecter à la base de données SQLite\u001b[39;00m\n\u001b[1;32m----> 5\u001b[0m connexion \u001b[39m=\u001b[39m sqlite3\u001b[39m.\u001b[39mconnect(\u001b[39m\"\u001b[39m\u001b[39mdb_objets_trouves.db\u001b[39m\u001b[39m\"\u001b[39m)\n\u001b[0;32m      7\u001b[0m \u001b[39m# lire les données de la table \"meteo_objets_trouves\" dans un DataFrame pandas\u001b[39;00m\n\u001b[0;32m      8\u001b[0m df \u001b[39m=\u001b[39m pd\u001b[39m.\u001b[39mread_sql_query(\u001b[39m\"\u001b[39m\u001b[39mSELECT date, temperature, nbr_perdu FROM meteo_objets_trouves\u001b[39m\u001b[39m\"\u001b[39m, connexion)\n",
      "\u001b[1;31mNameError\u001b[0m: name 'sqlite3' is not defined"
     ]
    }
   ],
   "source": []
  }
 ],
 "metadata": {
  "kernelspec": {
   "display_name": "base",
   "language": "python",
   "name": "python3"
  },
  "language_info": {
   "codemirror_mode": {
    "name": "ipython",
    "version": 3
   },
   "file_extension": ".py",
   "mimetype": "text/x-python",
   "name": "python",
   "nbconvert_exporter": "python",
   "pygments_lexer": "ipython3",
   "version": "3.10.8"
  },
  "orig_nbformat": 4
 },
 "nbformat": 4,
 "nbformat_minor": 2
}
