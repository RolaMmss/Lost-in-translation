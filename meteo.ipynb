{
 "cells": [
  {
   "cell_type": "code",
   "execution_count": 1,
   "metadata": {},
   "outputs": [],
   "source": [
    "import sqlite3\n",
    "import pandas as pd\n",
    "\n",
    "# se connecter à la base de données SQLite\n",
    "connexion = sqlite3.connect(\"db_temperature.db\")\n",
    "curseur = connexion.cursor()\n",
    "\n",
    "# créer la table pour stocker les données\n",
    "curseur.execute(\"\"\"\n",
    "    CREATE TABLE IF NOT EXISTS temperature (\n",
    "        id INTEGER PRIMARY KEY AUTOINCREMENT,\n",
    "        date TEXT NOT NULL,\n",
    "        temperature FLOAT NOT NULL\n",
    "    )\n",
    "\"\"\")\n",
    "\n",
    "# lire le fichier CSV dans un DataFrame pandas\n",
    "df = pd.read_csv(\"archive.csv\")\n",
    "\n",
    "# Insérer les données dans la table temperature\n",
    "for index, row in df.iterrows():\n",
    "    curseur.execute(\"INSERT INTO temperature (date, temperature) VALUES (?, ?)\", (row[\"time\"], row[\"temperature_2m_mean (°C)\"]))\n",
    "\n",
    "# Sauvegarder les modifications et fermer la connexion\n",
    "connexion.commit()\n",
    "connexion.close()\n",
    "\n"
   ]
  }
 ],
 "metadata": {
  "kernelspec": {
   "display_name": "machine_learning",
   "language": "python",
   "name": "python3"
  },
  "language_info": {
   "codemirror_mode": {
    "name": "ipython",
    "version": 3
   },
   "file_extension": ".py",
   "mimetype": "text/x-python",
   "name": "python",
   "nbconvert_exporter": "python",
   "pygments_lexer": "ipython3",
   "version": "3.10.9"
  },
  "orig_nbformat": 4,
  "vscode": {
   "interpreter": {
    "hash": "6372ac1f96e6a574de8fb7db2482e4b51a9c7365ff441969ce58324c2dcfaf16"
   }
  }
 },
 "nbformat": 4,
 "nbformat_minor": 2
}
