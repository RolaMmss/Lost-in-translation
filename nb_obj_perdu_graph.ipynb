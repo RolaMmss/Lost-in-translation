{
 "cells": [
  {
   "cell_type": "code",
   "execution_count": 75,
   "metadata": {},
   "outputs": [],
   "source": [
    "import pandas as pd  \n",
    "import numpy as np\n",
    "import matplotlib.pyplot as plt\n",
    "import seaborn as sns\n",
    "import folium   \n",
    "from branca.element import Figure    \n",
    "import plotly.express as px\n",
    "import nbformat\n",
    "\n",
    "\n"
   ]
  },
  {
   "cell_type": "code",
   "execution_count": 76,
   "metadata": {},
   "outputs": [
    {
     "data": {
      "text/html": [
       "<div>\n",
       "<style scoped>\n",
       "    .dataframe tbody tr th:only-of-type {\n",
       "        vertical-align: middle;\n",
       "    }\n",
       "\n",
       "    .dataframe tbody tr th {\n",
       "        vertical-align: top;\n",
       "    }\n",
       "\n",
       "    .dataframe thead th {\n",
       "        text-align: right;\n",
       "    }\n",
       "</style>\n",
       "<table border=\"1\" class=\"dataframe\">\n",
       "  <thead>\n",
       "    <tr style=\"text-align: right;\">\n",
       "      <th></th>\n",
       "      <th>date</th>\n",
       "      <th>Nbr_perdu</th>\n",
       "    </tr>\n",
       "  </thead>\n",
       "  <tbody>\n",
       "    <tr>\n",
       "      <th>0</th>\n",
       "      <td>2019-01-06</td>\n",
       "      <td>418</td>\n",
       "    </tr>\n",
       "    <tr>\n",
       "      <th>1</th>\n",
       "      <td>2019-01-13</td>\n",
       "      <td>404</td>\n",
       "    </tr>\n",
       "    <tr>\n",
       "      <th>2</th>\n",
       "      <td>2019-01-20</td>\n",
       "      <td>497</td>\n",
       "    </tr>\n",
       "    <tr>\n",
       "      <th>3</th>\n",
       "      <td>2019-01-27</td>\n",
       "      <td>472</td>\n",
       "    </tr>\n",
       "    <tr>\n",
       "      <th>4</th>\n",
       "      <td>2019-02-03</td>\n",
       "      <td>456</td>\n",
       "    </tr>\n",
       "    <tr>\n",
       "      <th>...</th>\n",
       "      <td>...</td>\n",
       "      <td>...</td>\n",
       "    </tr>\n",
       "    <tr>\n",
       "      <th>204</th>\n",
       "      <td>2022-12-04</td>\n",
       "      <td>510</td>\n",
       "    </tr>\n",
       "    <tr>\n",
       "      <th>205</th>\n",
       "      <td>2022-12-11</td>\n",
       "      <td>453</td>\n",
       "    </tr>\n",
       "    <tr>\n",
       "      <th>206</th>\n",
       "      <td>2022-12-18</td>\n",
       "      <td>479</td>\n",
       "    </tr>\n",
       "    <tr>\n",
       "      <th>207</th>\n",
       "      <td>2022-12-25</td>\n",
       "      <td>457</td>\n",
       "    </tr>\n",
       "    <tr>\n",
       "      <th>208</th>\n",
       "      <td>2023-01-01</td>\n",
       "      <td>415</td>\n",
       "    </tr>\n",
       "  </tbody>\n",
       "</table>\n",
       "<p>209 rows × 2 columns</p>\n",
       "</div>"
      ],
      "text/plain": [
       "          date  Nbr_perdu\n",
       "0   2019-01-06        418\n",
       "1   2019-01-13        404\n",
       "2   2019-01-20        497\n",
       "3   2019-01-27        472\n",
       "4   2019-02-03        456\n",
       "..         ...        ...\n",
       "204 2022-12-04        510\n",
       "205 2022-12-11        453\n",
       "206 2022-12-18        479\n",
       "207 2022-12-25        457\n",
       "208 2023-01-01        415\n",
       "\n",
       "[209 rows x 2 columns]"
      ]
     },
     "execution_count": 76,
     "metadata": {},
     "output_type": "execute_result"
    }
   ],
   "source": [
    "# lire le fichier CSV dans un DataFrame pandas\n",
    "df = pd.read_csv(\"objets-trouves.csv\")\n",
    "\n",
    "# convertir la colonne \"date\" en type datetime\n",
    "df[\"date\"] = pd.to_datetime(df[\"date\"])\n",
    "\n",
    "# filtrer les données entre 2019 et 2022\n",
    "start_date = pd.Timestamp(\"2019-01-01\")\n",
    "end_date = pd.Timestamp(\"2022-12-31\")\n",
    "# du lundi au dimanche \n",
    "df = df[(df[\"date\"] >= start_date) & (df[\"date\"] <= end_date)]\n",
    "\n",
    "# renommer la colonne \"type d'objet\" en \"Nbr_perdu\"\n",
    "df = df.rename(columns={\"type d'objet\": \"Nbr_perdu\"})\n",
    "\n",
    "\n",
    "# grouper les données par semaine et calculer la somme du nombre d'objets pour chaque semaine # du lundi au dimanche \n",
    "\n",
    "weekly_sum = df.groupby(pd.Grouper(key=\"date\", freq=\"w\"))[\"Nbr_perdu\"].count().reset_index()\n",
    "\n",
    "# afficher les résultats\n",
    "weekly_sum\n"
   ]
  },
  {
   "cell_type": "code",
   "execution_count": 77,
   "metadata": {},
   "outputs": [],
   "source": [
    "# df['date'] = pd.to_datetime(df['date'])\n",
    "# df['Semaine'] = df['date'].dt.week\n",
    "# df"
   ]
  },
  {
   "cell_type": "code",
   "execution_count": 78,
   "metadata": {},
   "outputs": [],
   "source": [
    "# # lire le fichier CSV dans un DataFrame pandas\n",
    "# df = pd.read_csv(\"objets-trouves.csv\")\n",
    "\n",
    "# # convertir la colonne \"date\" en type datetime\n",
    "# df[\"date\"] = pd.to_datetime(df[\"date\"])\n",
    "\n",
    "# # filtrer les données entre 2019 et 2022\n",
    "# start_date = pd.Timestamp(\"2019-01-01\")\n",
    "# end_date = pd.Timestamp(\"2022-12-31\")\n",
    "# df = df[(df[\"date\"] >= start_date) & (df[\"date\"] <= end_date)]\n",
    "\n",
    "# # renommer la colonne \"type d'objet\" en \"Nbr_perdu\"\n",
    "# df = df.rename(columns={\"type d'objet\": \"Nbr_perdu\"})\n",
    "\n",
    "# # grouper les données par semaine et calculer la somme du nombre d'objets pour chaque semaine\n",
    "# weekly_sum = df.groupby(pd.Grouper(key=\"date\", freq=\"w\"))[\"Nbr_perdu\"].count().reset_index()\n",
    "\n",
    "# # définir l'index sur la colonne \"date\"\n",
    "# weekly_sum = weekly_sum.set_index(\"date\")\n",
    "\n",
    "# # afficher les résultats\n",
    "# weekly_sum\n",
    "\n"
   ]
  },
  {
   "cell_type": "code",
   "execution_count": 79,
   "metadata": {},
   "outputs": [],
   "source": [
    "\n",
    "# # lire le fichier CSV dans un DataFrame pandas\n",
    "# df = pd.read_csv(\"objets-trouves.csv\")\n",
    "\n",
    "# # convertir la colonne \"date\" en type datetime\n",
    "# df[\"date\"] = pd.to_datetime(df[\"date\"])\n",
    "\n",
    "# # filtrer les données entre 2019 et 2022\n",
    "# start_date = pd.Timestamp(\"2019-01-01\")\n",
    "# end_date = pd.Timestamp(\"2022-12-31\")\n",
    "# df = df[(df[\"date\"] >= start_date) & (df[\"date\"] <= end_date)]\n",
    "\n",
    "# # renommer la colonne \"type d'objet\" en \"Nbr_perdu\"\n",
    "# df = df.rename(columns={\"type d'objet\": \"Nbr_perdu\"})\n",
    "\n",
    "# # grouper les données par mois et calculer la somme du nombre d'objets pour chaque mois\n",
    "# monthly_sum = df.groupby(pd.Grouper(key=\"date\", freq=\"M\"))[\"Nbr_perdu\"].count().reset_index()\n",
    "\n",
    "# # afficher les résultats\n",
    "# monthly_sum"
   ]
  },
  {
   "cell_type": "code",
   "execution_count": 80,
   "metadata": {},
   "outputs": [],
   "source": [
    "\n",
    "fig = px.histogram(df, x=\"date\", nbins=len(weekly_sum))\n",
    "fig.update_layout(xaxis_title=\"Date (Semaine)\", yaxis_title=\"Nombre d'objets perdus\")\n",
    "fig.write_html('histogramme.html', auto_open=True)"
   ]
  },
  {
   "cell_type": "code",
   "execution_count": 81,
   "metadata": {},
   "outputs": [],
   "source": [
    "\n",
    "fig = px.histogram(df, x=\"Nbr_perdu\")\n",
    "fig.write_html('histogramme2.html', auto_open=True)"
   ]
  },
  {
   "cell_type": "code",
   "execution_count": 82,
   "metadata": {},
   "outputs": [
    {
     "data": {
      "text/html": [
       "<div>\n",
       "<style scoped>\n",
       "    .dataframe tbody tr th:only-of-type {\n",
       "        vertical-align: middle;\n",
       "    }\n",
       "\n",
       "    .dataframe tbody tr th {\n",
       "        vertical-align: top;\n",
       "    }\n",
       "\n",
       "    .dataframe thead th {\n",
       "        text-align: right;\n",
       "    }\n",
       "</style>\n",
       "<table border=\"1\" class=\"dataframe\">\n",
       "  <thead>\n",
       "    <tr style=\"text-align: right;\">\n",
       "      <th></th>\n",
       "      <th>gare</th>\n",
       "      <th>annee</th>\n",
       "      <th>Nbr_perdu</th>\n",
       "    </tr>\n",
       "  </thead>\n",
       "  <tbody>\n",
       "    <tr>\n",
       "      <th>0</th>\n",
       "      <td>Paris Austerlitz</td>\n",
       "      <td>2019</td>\n",
       "      <td>426</td>\n",
       "    </tr>\n",
       "    <tr>\n",
       "      <th>1</th>\n",
       "      <td>Paris Austerlitz</td>\n",
       "      <td>2020</td>\n",
       "      <td>239</td>\n",
       "    </tr>\n",
       "    <tr>\n",
       "      <th>2</th>\n",
       "      <td>Paris Austerlitz</td>\n",
       "      <td>2021</td>\n",
       "      <td>381</td>\n",
       "    </tr>\n",
       "    <tr>\n",
       "      <th>3</th>\n",
       "      <td>Paris Austerlitz</td>\n",
       "      <td>2022</td>\n",
       "      <td>627</td>\n",
       "    </tr>\n",
       "    <tr>\n",
       "      <th>4</th>\n",
       "      <td>Paris Bercy</td>\n",
       "      <td>2019</td>\n",
       "      <td>570</td>\n",
       "    </tr>\n",
       "    <tr>\n",
       "      <th>5</th>\n",
       "      <td>Paris Bercy</td>\n",
       "      <td>2020</td>\n",
       "      <td>325</td>\n",
       "    </tr>\n",
       "    <tr>\n",
       "      <th>6</th>\n",
       "      <td>Paris Bercy</td>\n",
       "      <td>2021</td>\n",
       "      <td>293</td>\n",
       "    </tr>\n",
       "    <tr>\n",
       "      <th>7</th>\n",
       "      <td>Paris Bercy</td>\n",
       "      <td>2022</td>\n",
       "      <td>306</td>\n",
       "    </tr>\n",
       "    <tr>\n",
       "      <th>8</th>\n",
       "      <td>Paris Est</td>\n",
       "      <td>2019</td>\n",
       "      <td>1589</td>\n",
       "    </tr>\n",
       "    <tr>\n",
       "      <th>9</th>\n",
       "      <td>Paris Est</td>\n",
       "      <td>2020</td>\n",
       "      <td>844</td>\n",
       "    </tr>\n",
       "    <tr>\n",
       "      <th>10</th>\n",
       "      <td>Paris Est</td>\n",
       "      <td>2021</td>\n",
       "      <td>980</td>\n",
       "    </tr>\n",
       "    <tr>\n",
       "      <th>11</th>\n",
       "      <td>Paris Est</td>\n",
       "      <td>2022</td>\n",
       "      <td>1320</td>\n",
       "    </tr>\n",
       "    <tr>\n",
       "      <th>12</th>\n",
       "      <td>Paris Gare de Lyon</td>\n",
       "      <td>2019</td>\n",
       "      <td>7435</td>\n",
       "    </tr>\n",
       "    <tr>\n",
       "      <th>13</th>\n",
       "      <td>Paris Gare de Lyon</td>\n",
       "      <td>2020</td>\n",
       "      <td>4358</td>\n",
       "    </tr>\n",
       "    <tr>\n",
       "      <th>14</th>\n",
       "      <td>Paris Gare de Lyon</td>\n",
       "      <td>2021</td>\n",
       "      <td>5154</td>\n",
       "    </tr>\n",
       "    <tr>\n",
       "      <th>15</th>\n",
       "      <td>Paris Gare de Lyon</td>\n",
       "      <td>2022</td>\n",
       "      <td>6773</td>\n",
       "    </tr>\n",
       "    <tr>\n",
       "      <th>16</th>\n",
       "      <td>Paris Gare du Nord</td>\n",
       "      <td>2019</td>\n",
       "      <td>5784</td>\n",
       "    </tr>\n",
       "    <tr>\n",
       "      <th>17</th>\n",
       "      <td>Paris Gare du Nord</td>\n",
       "      <td>2020</td>\n",
       "      <td>2101</td>\n",
       "    </tr>\n",
       "    <tr>\n",
       "      <th>18</th>\n",
       "      <td>Paris Gare du Nord</td>\n",
       "      <td>2021</td>\n",
       "      <td>2350</td>\n",
       "    </tr>\n",
       "    <tr>\n",
       "      <th>19</th>\n",
       "      <td>Paris Gare du Nord</td>\n",
       "      <td>2022</td>\n",
       "      <td>3609</td>\n",
       "    </tr>\n",
       "    <tr>\n",
       "      <th>20</th>\n",
       "      <td>Paris Montparnasse</td>\n",
       "      <td>2019</td>\n",
       "      <td>6978</td>\n",
       "    </tr>\n",
       "    <tr>\n",
       "      <th>21</th>\n",
       "      <td>Paris Montparnasse</td>\n",
       "      <td>2020</td>\n",
       "      <td>4113</td>\n",
       "    </tr>\n",
       "    <tr>\n",
       "      <th>22</th>\n",
       "      <td>Paris Montparnasse</td>\n",
       "      <td>2021</td>\n",
       "      <td>5663</td>\n",
       "    </tr>\n",
       "    <tr>\n",
       "      <th>23</th>\n",
       "      <td>Paris Montparnasse</td>\n",
       "      <td>2022</td>\n",
       "      <td>6758</td>\n",
       "    </tr>\n",
       "    <tr>\n",
       "      <th>24</th>\n",
       "      <td>Paris Saint-Lazare</td>\n",
       "      <td>2019</td>\n",
       "      <td>3779</td>\n",
       "    </tr>\n",
       "    <tr>\n",
       "      <th>25</th>\n",
       "      <td>Paris Saint-Lazare</td>\n",
       "      <td>2020</td>\n",
       "      <td>1595</td>\n",
       "    </tr>\n",
       "    <tr>\n",
       "      <th>26</th>\n",
       "      <td>Paris Saint-Lazare</td>\n",
       "      <td>2021</td>\n",
       "      <td>3049</td>\n",
       "    </tr>\n",
       "    <tr>\n",
       "      <th>27</th>\n",
       "      <td>Paris Saint-Lazare</td>\n",
       "      <td>2022</td>\n",
       "      <td>4233</td>\n",
       "    </tr>\n",
       "  </tbody>\n",
       "</table>\n",
       "</div>"
      ],
      "text/plain": [
       "                  gare  annee  Nbr_perdu\n",
       "0     Paris Austerlitz   2019        426\n",
       "1     Paris Austerlitz   2020        239\n",
       "2     Paris Austerlitz   2021        381\n",
       "3     Paris Austerlitz   2022        627\n",
       "4          Paris Bercy   2019        570\n",
       "5          Paris Bercy   2020        325\n",
       "6          Paris Bercy   2021        293\n",
       "7          Paris Bercy   2022        306\n",
       "8            Paris Est   2019       1589\n",
       "9            Paris Est   2020        844\n",
       "10           Paris Est   2021        980\n",
       "11           Paris Est   2022       1320\n",
       "12  Paris Gare de Lyon   2019       7435\n",
       "13  Paris Gare de Lyon   2020       4358\n",
       "14  Paris Gare de Lyon   2021       5154\n",
       "15  Paris Gare de Lyon   2022       6773\n",
       "16  Paris Gare du Nord   2019       5784\n",
       "17  Paris Gare du Nord   2020       2101\n",
       "18  Paris Gare du Nord   2021       2350\n",
       "19  Paris Gare du Nord   2022       3609\n",
       "20  Paris Montparnasse   2019       6978\n",
       "21  Paris Montparnasse   2020       4113\n",
       "22  Paris Montparnasse   2021       5663\n",
       "23  Paris Montparnasse   2022       6758\n",
       "24  Paris Saint-Lazare   2019       3779\n",
       "25  Paris Saint-Lazare   2020       1595\n",
       "26  Paris Saint-Lazare   2021       3049\n",
       "27  Paris Saint-Lazare   2022       4233"
      ]
     },
     "execution_count": 82,
     "metadata": {},
     "output_type": "execute_result"
    }
   ],
   "source": [
    "# convertir la colonne \"date\" en type datetime\n",
    "df[\"date\"] = pd.to_datetime(df[\"date\"])\n",
    "\n",
    "# extraire l'année à partir de la colonne \"date\"\n",
    "df[\"annee\"] = df[\"date\"].dt.year\n",
    "\n",
    "# renommer la colonne \"type d'objet\" en \"Nbr_perdu\"\n",
    "df = df.rename(columns={\"type d'objet\": \"Nbr_perdu\"})\n",
    "\n",
    "# grouper les données par gare et par année et calculer la somme du nombre d'objets pour chaque groupe\n",
    "gare_annee_sum = df.groupby([\"gare\",\"annee\"])[\"Nbr_perdu\"].count().reset_index()\n",
    "\n",
    "# afficher les résultats\n",
    "gare_annee_sum\n"
   ]
  },
  {
   "cell_type": "code",
   "execution_count": 83,
   "metadata": {},
   "outputs": [],
   "source": [
    "import sqlite3\n",
    "\n",
    "# Connexion à la base de données SQLite et récupération des données de la table 'objets_trouves'\n",
    "connexion = sqlite3.connect(\"db_objets_trouves.db\")\n",
    "df = pd.read_sql_query(\"SELECT * FROM objets_trouves\", connexion)\n",
    "\n",
    "# Convertir la colonne \"date\" en type datetime et extraire l'année à partir de la colonne \"date\"\n",
    "df[\"date\"] = pd.to_datetime(df[\"date\"])\n",
    "df[\"annee\"] = df[\"date\"].dt.year\n",
    "\n",
    "# Grouper les données par gare et par année et calculer la somme du nombre d'objets pour chaque groupe\n",
    "gare_annee_sum = df.groupby([\"gare\",\"annee\"])[\"type_objet\"].count().reset_index()\n",
    "gare_annee_sum = gare_annee_sum.rename(columns={\"type_objet\": \"Nbr_perdu\"})\n",
    "\n",
    "# Créer la table pour stocker les données si elle n'existe pas\n",
    "curseur = connexion.cursor()\n",
    "curseur.execute(\"\"\"\n",
    "    CREATE TABLE IF NOT EXISTS objet_perdu_annee (\n",
    "        id INTEGER PRIMARY KEY AUTOINCREMENT,\n",
    "        gare TEXT NOT NULL,\n",
    "        annee INTEGER,\n",
    "        Nbr_perdu INTEGER\n",
    "    )\n",
    "\"\"\")\n",
    "\n",
    "# Insérer les données dans la table 'objet_perdu_annee' si elles n'existent pas déjà\n",
    "for index, row in gare_annee_sum.iterrows():\n",
    "    curseur.execute(\"SELECT * FROM objet_perdu_annee WHERE gare = ? AND annee = ?\", (row[\"gare\"], row[\"annee\"]))\n",
    "    data = curseur.fetchone()\n",
    "    if data is None:\n",
    "        curseur.execute(\"INSERT INTO objet_perdu_annee (gare, annee, Nbr_perdu) VALUES (?, ?, ?)\", (row[\"gare\"], row[\"annee\"], row[\"Nbr_perdu\"]))\n",
    "\n",
    "# Sauvegarder les modifications et fermer la connexion\n",
    "connexion.commit()\n",
    "connexion.close()\n",
    "\n"
   ]
  },
  {
   "cell_type": "code",
   "execution_count": 92,
   "metadata": {},
   "outputs": [],
   "source": [
    "# # convertir la colonne \"date\" en type datetime\n",
    "# df[\"date\"] = pd.to_datetime(df[\"date\"])\n",
    "\n",
    "# # extraire l'année à partir de la colonne \"date\"\n",
    "# df[\"annee\"] = df[\"date\"].dt.year\n",
    "\n",
    "# # renommer la colonne \"type d'objet\" en \"Nbr_perdu\"\n",
    "# df = df.rename(columns={\"type d'objet\": \"Nbr_perdu\"})\n",
    "\n",
    "# # grouper les données par gare et par année et calculer la somme du nombre d'objets pour chaque groupe\n",
    "# gare_annee_sum = df.groupby([\"gare\"])[\"Nbr_perdu\"].count().reset_index()\n",
    "\n",
    "# # afficher les résultats\n",
    "# gare_annee_sum\n"
   ]
  },
  {
   "cell_type": "code",
   "execution_count": 85,
   "metadata": {},
   "outputs": [],
   "source": [
    "import sqlite3\n",
    "\n",
    "# se connecter à la base de données SQLite\n",
    "connexion = sqlite3.connect(\"db_objets_trouves.db\")\n",
    "\n",
    "# créer la table pour stocker les données\n",
    "curseur = connexion.cursor()\n",
    "curseur.execute(\"\"\"\n",
    "    CREATE TABLE IF NOT EXISTS gares (\n",
    "        id INTEGER PRIMARY KEY AUTOINCREMENT,\n",
    "        gare TEXT NOT NULL,\n",
    "        latitude REAL NOT NULL,\n",
    "        longitude REAL NOT NULL,\n",
    "        annee INTEGER,\n",
    "        frequantation INTEGER\n",
    "    )\n",
    "\"\"\")\n",
    "\n",
    "# sauvegarder les modifications et fermer la connexion\n",
    "connexion.commit()\n",
    "connexion.close()\n",
    "\n",
    "\n"
   ]
  },
  {
   "cell_type": "code",
   "execution_count": 86,
   "metadata": {},
   "outputs": [
    {
     "name": "stdout",
     "output_type": "stream",
     "text": [
      "Le fichier CSV a été créé avec succès !\n"
     ]
    }
   ],
   "source": [
    "import csv\n",
    "\n",
    "data = {\n",
    "    'Paris Bercy': {\n",
    "        'latitude': 48.8397,\n",
    "        'longitude': 2.3869,\n",
    "        2019: 4100000,\n",
    "        2020: 3600000,\n",
    "        2021: 3300000,\n",
    "        2022: 3630000,    \n",
    "    },\n",
    "    'Paris Saint-Lazare': {\n",
    "        'latitude': 48.8760,\n",
    "        'longitude': 2.3275,\n",
    "        2019: 115800000,\n",
    "        2020: 56500000,\n",
    "        2021: 91500000,\n",
    "        2022: 100650000,   \n",
    "    },\n",
    "    'Paris Gare de Lyon': {\n",
    "        'latitude': 48.8448,\n",
    "        'longitude': 2.3734,\n",
    "        2019: 109700000,\n",
    "        2020: 46200000,\n",
    "        2021: 79900000,\n",
    "        2022: 87890000\n",
    "    },\n",
    "    'Paris Gare du Nord': {\n",
    "        'latitude': 48.8809,\n",
    "        'longitude': 2.3554,\n",
    "        2019: 222700000,\n",
    "        2020: 70100000,\n",
    "        2021: 126600000,\n",
    "        2022: 139260000\n",
    "    },\n",
    "    'Paris Montparnasse': {\n",
    "        'latitude': 48.8404,\n",
    "        'longitude': 2.3209,\n",
    "        2019: 57200000,\n",
    "        2020: 28300000,\n",
    "        2021: 41100000,\n",
    "        2022: 45210000\n",
    "    },\n",
    "    'Paris Est': {\n",
    "        'latitude': 48.8762,\n",
    "        'longitude': 2.3581,\n",
    "        2019: 34100000,\n",
    "        2020: 15600000,\n",
    "        2021: 27700000,\n",
    "        2022: 30470000\n",
    "    },\n",
    "    'Paris Austerlitz': {\n",
    "        'latitude': 48.8413,\n",
    "        'longitude': 2.3644,\n",
    "        2019: 14500000,\n",
    "        2020: 6800000,\n",
    "        2021: 22200000,\n",
    "        2022: 24420000\n",
    "    }\n",
    "}\n",
    "\n",
    "# Nom du fichier CSV à créer\n",
    "filename = \"gares.csv\"\n",
    "\n",
    "# Ouverture du fichier en mode écriture\n",
    "with open(filename, 'w', newline='') as csvfile:\n",
    "\n",
    "    # Création d'un objet writer pour écrire dans le fichier CSV\n",
    "    writer = csv.writer(csvfile)\n",
    "\n",
    "    # Écriture de l'en-tête du fichier CSV\n",
    "    writer.writerow(['Gare', 'Latitude', 'Longitude', '2019', '2020', '2021', '2022'])\n",
    "\n",
    "    # Écriture des données pour chaque gare\n",
    "    for gare, info in data.items():\n",
    "        writer.writerow([gare, info['latitude'], info['longitude'], info[2019], info[2020], info[2021], info[2022]])\n",
    "\n",
    "print(\"Le fichier CSV a été créé avec succès !\")\n"
   ]
  },
  {
   "cell_type": "code",
   "execution_count": 87,
   "metadata": {},
   "outputs": [
    {
     "name": "stdout",
     "output_type": "stream",
     "text": [
      "La gare Paris Bercy existe déjà dans la table 'gares', l'enregistrement ne sera pas inséré.\n",
      "La gare Paris Saint-Lazare existe déjà dans la table 'gares', l'enregistrement ne sera pas inséré.\n",
      "La gare Paris Gare de Lyon existe déjà dans la table 'gares', l'enregistrement ne sera pas inséré.\n",
      "La gare Paris Gare du Nord existe déjà dans la table 'gares', l'enregistrement ne sera pas inséré.\n",
      "La gare Paris Montparnasse existe déjà dans la table 'gares', l'enregistrement ne sera pas inséré.\n",
      "La gare Paris Est existe déjà dans la table 'gares', l'enregistrement ne sera pas inséré.\n",
      "La gare Paris Austerlitz existe déjà dans la table 'gares', l'enregistrement ne sera pas inséré.\n",
      "Les données ont été importées avec succès dans la table 'gares' !\n"
     ]
    }
   ],
   "source": [
    "def inserer_donnees_gares(nom_fichier_csv):\n",
    "    # Connexion à la base de données SQLite\n",
    "    connexion = sqlite3.connect(\"db_objets_trouves.db\")\n",
    "\n",
    "    # Création de la table pour stocker les données\n",
    "    curseur = connexion.cursor()\n",
    "    curseur.execute(\"\"\"\n",
    "        CREATE TABLE IF NOT EXISTS gares (\n",
    "            id INTEGER PRIMARY KEY AUTOINCREMENT,\n",
    "            gare TEXT NOT NULL,\n",
    "            latitude REAL NOT NULL,\n",
    "            longitude REAL NOT NULL,\n",
    "            annee INTEGER,\n",
    "            frequantation INTEGER\n",
    "        )\n",
    "    \"\"\")\n",
    "\n",
    "    # Lecture des données depuis le fichier CSV et insertion dans la table SQLite\n",
    "    with open(nom_fichier_csv) as fichier_csv:\n",
    "        lecteur_csv = csv.reader(fichier_csv, delimiter=',')\n",
    "        next(lecteur_csv)  # Ignorer la première ligne qui contient les en-têtes\n",
    "        for ligne in lecteur_csv:\n",
    "            gare = ligne[0]\n",
    "            latitude = float(ligne[1])\n",
    "            longitude = float(ligne[2])\n",
    "            annee_2019 = int(ligne[3])\n",
    "            annee_2020 = int(ligne[4])\n",
    "            annee_2021 = int(ligne[5])\n",
    "            annee_2022 = int(ligne[6])\n",
    "            # Vérifier si une gare avec la même latitude et longitude n'existe pas déjà dans la table\n",
    "            curseur.execute(\"\"\"\n",
    "                SELECT id FROM gares WHERE latitude = ? AND longitude = ?\n",
    "            \"\"\", (latitude, longitude))\n",
    "            enregistrement_existant = curseur.fetchone()\n",
    "            if enregistrement_existant is not None:\n",
    "                # Une gare avec la même latitude et longitude existe déjà, ne rien faire\n",
    "                print(f\"La gare {gare} existe déjà dans la table 'gares', l'enregistrement ne sera pas inséré.\")\n",
    "            else:\n",
    "                # Insérer la gare dans la table avec les fréquentations pour chaque année\n",
    "                curseur.execute(\"\"\"\n",
    "                    INSERT INTO gares (gare, latitude, longitude, annee, frequantation)\n",
    "                    VALUES (?, ?, ?, 2019, ?), (?, ?, ?, 2020, ?), (?, ?, ?, 2021, ?), (?, ?, ?, 2022, ?)\n",
    "                \"\"\", (gare, latitude, longitude, annee_2019, gare, latitude, longitude, annee_2020, gare, latitude, longitude, annee_2021, gare, latitude, longitude, annee_2022))\n",
    "                print(f\"L'enregistrement pour la gare {gare} a été inséré avec succès dans la table 'gares'.\")\n",
    "    \n",
    "    # Sauvegarde des modifications et fermeture de la connexion à la base de données\n",
    "    connexion.commit()\n",
    "    connexion.close()\n",
    "    \n",
    "    print(\"Les données ont été importées avec succès dans la table 'gares' !\")\n",
    "\n",
    "inserer_donnees_gares(\"gares.csv\")\n",
    "\n"
   ]
  },
  {
   "cell_type": "code",
   "execution_count": null,
   "metadata": {},
   "outputs": [
    {
     "name": "stdout",
     "output_type": "stream",
     "text": [
      "La table gares a été vidée avec succès !\n"
     ]
    }
   ],
   "source": [
    "# def vider_table_gares():\n",
    "#     # se connecter à la base de données SQLite\n",
    "#     connexion = sqlite3.connect(\"db_objets_trouves.db\")\n",
    "\n",
    "#     # créer un curseur pour exécuter des requêtes SQL\n",
    "#     curseur = connexion.cursor()\n",
    "\n",
    "#     # exécuter la requête SQL pour supprimer toutes les lignes de la table gares\n",
    "#     curseur.execute(\"DELETE FROM gares_objets_perdus\")\n",
    "\n",
    "#     # sauvegarder les modifications et fermer la connexion\n",
    "#     connexion.commit()\n",
    "#     connexion.close()\n",
    "\n",
    "#     print(\"La table gares a été vidée avec succès !\")\n",
    "    \n",
    "# vider_table_gares()\n",
    "\n"
   ]
  },
  {
   "cell_type": "code",
   "execution_count": null,
   "metadata": {},
   "outputs": [
    {
     "name": "stdout",
     "output_type": "stream",
     "text": [
      "La table 'gares' a été supprimée avec succès de la base de données SQLite !\n"
     ]
    }
   ],
   "source": [
    "# import sqlite3\n",
    "\n",
    "# def supprimer_table_gares():\n",
    "#     # Connexion à la base de données SQLite\n",
    "#     connexion = sqlite3.connect(\"db_objets_trouves.db\")\n",
    "\n",
    "#     # Suppression de la table \"gares\"\n",
    "#     curseur = connexion.cursor()\n",
    "#     curseur.execute(\"DROP TABLE IF EXISTS gares\")\n",
    "\n",
    "#     # Sauvegarde des modifications et fermeture de la connexion à la base de données\n",
    "#     connexion.commit()\n",
    "#     connexion.close()\n",
    "\n",
    "#     print(\"La table 'gares' a été supprimée avec succès de la base de données SQLite !\")\n",
    "# supprimer_table_gares()"
   ]
  },
  {
   "cell_type": "code",
   "execution_count": 88,
   "metadata": {},
   "outputs": [
    {
     "data": {
      "text/html": [
       "<div>\n",
       "<style scoped>\n",
       "    .dataframe tbody tr th:only-of-type {\n",
       "        vertical-align: middle;\n",
       "    }\n",
       "\n",
       "    .dataframe tbody tr th {\n",
       "        vertical-align: top;\n",
       "    }\n",
       "\n",
       "    .dataframe thead th {\n",
       "        text-align: right;\n",
       "    }\n",
       "</style>\n",
       "<table border=\"1\" class=\"dataframe\">\n",
       "  <thead>\n",
       "    <tr style=\"text-align: right;\">\n",
       "      <th></th>\n",
       "      <th>id</th>\n",
       "      <th>gare</th>\n",
       "      <th>latitude</th>\n",
       "      <th>longitude</th>\n",
       "      <th>annee</th>\n",
       "      <th>frequantation</th>\n",
       "    </tr>\n",
       "  </thead>\n",
       "  <tbody>\n",
       "    <tr>\n",
       "      <th>0</th>\n",
       "      <td>1</td>\n",
       "      <td>Paris Bercy</td>\n",
       "      <td>48.8397</td>\n",
       "      <td>2.3869</td>\n",
       "      <td>2019</td>\n",
       "      <td>4100000</td>\n",
       "    </tr>\n",
       "    <tr>\n",
       "      <th>1</th>\n",
       "      <td>2</td>\n",
       "      <td>Paris Bercy</td>\n",
       "      <td>48.8397</td>\n",
       "      <td>2.3869</td>\n",
       "      <td>2020</td>\n",
       "      <td>3600000</td>\n",
       "    </tr>\n",
       "    <tr>\n",
       "      <th>2</th>\n",
       "      <td>3</td>\n",
       "      <td>Paris Bercy</td>\n",
       "      <td>48.8397</td>\n",
       "      <td>2.3869</td>\n",
       "      <td>2021</td>\n",
       "      <td>3300000</td>\n",
       "    </tr>\n",
       "    <tr>\n",
       "      <th>3</th>\n",
       "      <td>4</td>\n",
       "      <td>Paris Bercy</td>\n",
       "      <td>48.8397</td>\n",
       "      <td>2.3869</td>\n",
       "      <td>2022</td>\n",
       "      <td>3630000</td>\n",
       "    </tr>\n",
       "    <tr>\n",
       "      <th>4</th>\n",
       "      <td>5</td>\n",
       "      <td>Paris Saint-Lazare</td>\n",
       "      <td>48.8760</td>\n",
       "      <td>2.3275</td>\n",
       "      <td>2019</td>\n",
       "      <td>115800000</td>\n",
       "    </tr>\n",
       "    <tr>\n",
       "      <th>5</th>\n",
       "      <td>6</td>\n",
       "      <td>Paris Saint-Lazare</td>\n",
       "      <td>48.8760</td>\n",
       "      <td>2.3275</td>\n",
       "      <td>2020</td>\n",
       "      <td>56500000</td>\n",
       "    </tr>\n",
       "    <tr>\n",
       "      <th>6</th>\n",
       "      <td>7</td>\n",
       "      <td>Paris Saint-Lazare</td>\n",
       "      <td>48.8760</td>\n",
       "      <td>2.3275</td>\n",
       "      <td>2021</td>\n",
       "      <td>91500000</td>\n",
       "    </tr>\n",
       "    <tr>\n",
       "      <th>7</th>\n",
       "      <td>8</td>\n",
       "      <td>Paris Saint-Lazare</td>\n",
       "      <td>48.8760</td>\n",
       "      <td>2.3275</td>\n",
       "      <td>2022</td>\n",
       "      <td>100650000</td>\n",
       "    </tr>\n",
       "    <tr>\n",
       "      <th>8</th>\n",
       "      <td>9</td>\n",
       "      <td>Paris Gare de Lyon</td>\n",
       "      <td>48.8448</td>\n",
       "      <td>2.3734</td>\n",
       "      <td>2019</td>\n",
       "      <td>109700000</td>\n",
       "    </tr>\n",
       "    <tr>\n",
       "      <th>9</th>\n",
       "      <td>10</td>\n",
       "      <td>Paris Gare de Lyon</td>\n",
       "      <td>48.8448</td>\n",
       "      <td>2.3734</td>\n",
       "      <td>2020</td>\n",
       "      <td>46200000</td>\n",
       "    </tr>\n",
       "    <tr>\n",
       "      <th>10</th>\n",
       "      <td>11</td>\n",
       "      <td>Paris Gare de Lyon</td>\n",
       "      <td>48.8448</td>\n",
       "      <td>2.3734</td>\n",
       "      <td>2021</td>\n",
       "      <td>79900000</td>\n",
       "    </tr>\n",
       "    <tr>\n",
       "      <th>11</th>\n",
       "      <td>12</td>\n",
       "      <td>Paris Gare de Lyon</td>\n",
       "      <td>48.8448</td>\n",
       "      <td>2.3734</td>\n",
       "      <td>2022</td>\n",
       "      <td>87890000</td>\n",
       "    </tr>\n",
       "    <tr>\n",
       "      <th>12</th>\n",
       "      <td>13</td>\n",
       "      <td>Paris Gare du Nord</td>\n",
       "      <td>48.8809</td>\n",
       "      <td>2.3554</td>\n",
       "      <td>2019</td>\n",
       "      <td>222700000</td>\n",
       "    </tr>\n",
       "    <tr>\n",
       "      <th>13</th>\n",
       "      <td>14</td>\n",
       "      <td>Paris Gare du Nord</td>\n",
       "      <td>48.8809</td>\n",
       "      <td>2.3554</td>\n",
       "      <td>2020</td>\n",
       "      <td>70100000</td>\n",
       "    </tr>\n",
       "    <tr>\n",
       "      <th>14</th>\n",
       "      <td>15</td>\n",
       "      <td>Paris Gare du Nord</td>\n",
       "      <td>48.8809</td>\n",
       "      <td>2.3554</td>\n",
       "      <td>2021</td>\n",
       "      <td>126600000</td>\n",
       "    </tr>\n",
       "    <tr>\n",
       "      <th>15</th>\n",
       "      <td>16</td>\n",
       "      <td>Paris Gare du Nord</td>\n",
       "      <td>48.8809</td>\n",
       "      <td>2.3554</td>\n",
       "      <td>2022</td>\n",
       "      <td>139260000</td>\n",
       "    </tr>\n",
       "    <tr>\n",
       "      <th>16</th>\n",
       "      <td>17</td>\n",
       "      <td>Paris Montparnasse</td>\n",
       "      <td>48.8404</td>\n",
       "      <td>2.3209</td>\n",
       "      <td>2019</td>\n",
       "      <td>57200000</td>\n",
       "    </tr>\n",
       "    <tr>\n",
       "      <th>17</th>\n",
       "      <td>18</td>\n",
       "      <td>Paris Montparnasse</td>\n",
       "      <td>48.8404</td>\n",
       "      <td>2.3209</td>\n",
       "      <td>2020</td>\n",
       "      <td>28300000</td>\n",
       "    </tr>\n",
       "    <tr>\n",
       "      <th>18</th>\n",
       "      <td>19</td>\n",
       "      <td>Paris Montparnasse</td>\n",
       "      <td>48.8404</td>\n",
       "      <td>2.3209</td>\n",
       "      <td>2021</td>\n",
       "      <td>41100000</td>\n",
       "    </tr>\n",
       "    <tr>\n",
       "      <th>19</th>\n",
       "      <td>20</td>\n",
       "      <td>Paris Montparnasse</td>\n",
       "      <td>48.8404</td>\n",
       "      <td>2.3209</td>\n",
       "      <td>2022</td>\n",
       "      <td>45210000</td>\n",
       "    </tr>\n",
       "    <tr>\n",
       "      <th>20</th>\n",
       "      <td>21</td>\n",
       "      <td>Paris Est</td>\n",
       "      <td>48.8762</td>\n",
       "      <td>2.3581</td>\n",
       "      <td>2019</td>\n",
       "      <td>34100000</td>\n",
       "    </tr>\n",
       "    <tr>\n",
       "      <th>21</th>\n",
       "      <td>22</td>\n",
       "      <td>Paris Est</td>\n",
       "      <td>48.8762</td>\n",
       "      <td>2.3581</td>\n",
       "      <td>2020</td>\n",
       "      <td>15600000</td>\n",
       "    </tr>\n",
       "    <tr>\n",
       "      <th>22</th>\n",
       "      <td>23</td>\n",
       "      <td>Paris Est</td>\n",
       "      <td>48.8762</td>\n",
       "      <td>2.3581</td>\n",
       "      <td>2021</td>\n",
       "      <td>27700000</td>\n",
       "    </tr>\n",
       "    <tr>\n",
       "      <th>23</th>\n",
       "      <td>24</td>\n",
       "      <td>Paris Est</td>\n",
       "      <td>48.8762</td>\n",
       "      <td>2.3581</td>\n",
       "      <td>2022</td>\n",
       "      <td>30470000</td>\n",
       "    </tr>\n",
       "    <tr>\n",
       "      <th>24</th>\n",
       "      <td>25</td>\n",
       "      <td>Paris Austerlitz</td>\n",
       "      <td>48.8413</td>\n",
       "      <td>2.3644</td>\n",
       "      <td>2019</td>\n",
       "      <td>14500000</td>\n",
       "    </tr>\n",
       "    <tr>\n",
       "      <th>25</th>\n",
       "      <td>26</td>\n",
       "      <td>Paris Austerlitz</td>\n",
       "      <td>48.8413</td>\n",
       "      <td>2.3644</td>\n",
       "      <td>2020</td>\n",
       "      <td>6800000</td>\n",
       "    </tr>\n",
       "    <tr>\n",
       "      <th>26</th>\n",
       "      <td>27</td>\n",
       "      <td>Paris Austerlitz</td>\n",
       "      <td>48.8413</td>\n",
       "      <td>2.3644</td>\n",
       "      <td>2021</td>\n",
       "      <td>22200000</td>\n",
       "    </tr>\n",
       "    <tr>\n",
       "      <th>27</th>\n",
       "      <td>28</td>\n",
       "      <td>Paris Austerlitz</td>\n",
       "      <td>48.8413</td>\n",
       "      <td>2.3644</td>\n",
       "      <td>2022</td>\n",
       "      <td>24420000</td>\n",
       "    </tr>\n",
       "  </tbody>\n",
       "</table>\n",
       "</div>"
      ],
      "text/plain": [
       "    id                gare  latitude  longitude  annee  frequantation\n",
       "0    1         Paris Bercy   48.8397     2.3869   2019        4100000\n",
       "1    2         Paris Bercy   48.8397     2.3869   2020        3600000\n",
       "2    3         Paris Bercy   48.8397     2.3869   2021        3300000\n",
       "3    4         Paris Bercy   48.8397     2.3869   2022        3630000\n",
       "4    5  Paris Saint-Lazare   48.8760     2.3275   2019      115800000\n",
       "5    6  Paris Saint-Lazare   48.8760     2.3275   2020       56500000\n",
       "6    7  Paris Saint-Lazare   48.8760     2.3275   2021       91500000\n",
       "7    8  Paris Saint-Lazare   48.8760     2.3275   2022      100650000\n",
       "8    9  Paris Gare de Lyon   48.8448     2.3734   2019      109700000\n",
       "9   10  Paris Gare de Lyon   48.8448     2.3734   2020       46200000\n",
       "10  11  Paris Gare de Lyon   48.8448     2.3734   2021       79900000\n",
       "11  12  Paris Gare de Lyon   48.8448     2.3734   2022       87890000\n",
       "12  13  Paris Gare du Nord   48.8809     2.3554   2019      222700000\n",
       "13  14  Paris Gare du Nord   48.8809     2.3554   2020       70100000\n",
       "14  15  Paris Gare du Nord   48.8809     2.3554   2021      126600000\n",
       "15  16  Paris Gare du Nord   48.8809     2.3554   2022      139260000\n",
       "16  17  Paris Montparnasse   48.8404     2.3209   2019       57200000\n",
       "17  18  Paris Montparnasse   48.8404     2.3209   2020       28300000\n",
       "18  19  Paris Montparnasse   48.8404     2.3209   2021       41100000\n",
       "19  20  Paris Montparnasse   48.8404     2.3209   2022       45210000\n",
       "20  21           Paris Est   48.8762     2.3581   2019       34100000\n",
       "21  22           Paris Est   48.8762     2.3581   2020       15600000\n",
       "22  23           Paris Est   48.8762     2.3581   2021       27700000\n",
       "23  24           Paris Est   48.8762     2.3581   2022       30470000\n",
       "24  25    Paris Austerlitz   48.8413     2.3644   2019       14500000\n",
       "25  26    Paris Austerlitz   48.8413     2.3644   2020        6800000\n",
       "26  27    Paris Austerlitz   48.8413     2.3644   2021       22200000\n",
       "27  28    Paris Austerlitz   48.8413     2.3644   2022       24420000"
      ]
     },
     "execution_count": 88,
     "metadata": {},
     "output_type": "execute_result"
    }
   ],
   "source": [
    "# Connexion à la base de données SQLite\n",
    "connexion = sqlite3.connect(\"db_objets_trouves.db\")\n",
    "\n",
    "# Lecture de la table 'gares' et stockage dans un dataframe Pandas\n",
    "df_gares = pd.read_sql_query(\"SELECT * from gares\", connexion)\n",
    "\n",
    "# Fermeture de la connexion à la base de données\n",
    "connexion.close()\n",
    "\n",
    "# Affichage du contenu du dataframe\n",
    "df_gares"
   ]
  },
  {
   "cell_type": "code",
   "execution_count": 89,
   "metadata": {},
   "outputs": [
    {
     "data": {
      "text/html": [
       "<div>\n",
       "<style scoped>\n",
       "    .dataframe tbody tr th:only-of-type {\n",
       "        vertical-align: middle;\n",
       "    }\n",
       "\n",
       "    .dataframe tbody tr th {\n",
       "        vertical-align: top;\n",
       "    }\n",
       "\n",
       "    .dataframe thead th {\n",
       "        text-align: right;\n",
       "    }\n",
       "</style>\n",
       "<table border=\"1\" class=\"dataframe\">\n",
       "  <thead>\n",
       "    <tr style=\"text-align: right;\">\n",
       "      <th></th>\n",
       "      <th>Gare</th>\n",
       "      <th>Latitude</th>\n",
       "      <th>Longitude</th>\n",
       "      <th>2019</th>\n",
       "      <th>2020</th>\n",
       "      <th>2021</th>\n",
       "      <th>2022</th>\n",
       "    </tr>\n",
       "  </thead>\n",
       "  <tbody>\n",
       "    <tr>\n",
       "      <th>0</th>\n",
       "      <td>Paris Bercy</td>\n",
       "      <td>48.8397</td>\n",
       "      <td>2.3869</td>\n",
       "      <td>4100000</td>\n",
       "      <td>3600000</td>\n",
       "      <td>3300000</td>\n",
       "      <td>3630000</td>\n",
       "    </tr>\n",
       "    <tr>\n",
       "      <th>1</th>\n",
       "      <td>Paris Saint-Lazare</td>\n",
       "      <td>48.8760</td>\n",
       "      <td>2.3275</td>\n",
       "      <td>115800000</td>\n",
       "      <td>56500000</td>\n",
       "      <td>91500000</td>\n",
       "      <td>100650000</td>\n",
       "    </tr>\n",
       "    <tr>\n",
       "      <th>2</th>\n",
       "      <td>Paris Gare de Lyon</td>\n",
       "      <td>48.8448</td>\n",
       "      <td>2.3734</td>\n",
       "      <td>109700000</td>\n",
       "      <td>46200000</td>\n",
       "      <td>79900000</td>\n",
       "      <td>87890000</td>\n",
       "    </tr>\n",
       "    <tr>\n",
       "      <th>3</th>\n",
       "      <td>Paris Gare du Nord</td>\n",
       "      <td>48.8809</td>\n",
       "      <td>2.3554</td>\n",
       "      <td>222700000</td>\n",
       "      <td>70100000</td>\n",
       "      <td>126600000</td>\n",
       "      <td>139260000</td>\n",
       "    </tr>\n",
       "    <tr>\n",
       "      <th>4</th>\n",
       "      <td>Paris Montparnasse</td>\n",
       "      <td>48.8404</td>\n",
       "      <td>2.3209</td>\n",
       "      <td>57200000</td>\n",
       "      <td>28300000</td>\n",
       "      <td>41100000</td>\n",
       "      <td>45210000</td>\n",
       "    </tr>\n",
       "    <tr>\n",
       "      <th>5</th>\n",
       "      <td>Paris Est</td>\n",
       "      <td>48.8762</td>\n",
       "      <td>2.3581</td>\n",
       "      <td>34100000</td>\n",
       "      <td>15600000</td>\n",
       "      <td>27700000</td>\n",
       "      <td>30470000</td>\n",
       "    </tr>\n",
       "    <tr>\n",
       "      <th>6</th>\n",
       "      <td>Paris Austerlitz</td>\n",
       "      <td>48.8413</td>\n",
       "      <td>2.3644</td>\n",
       "      <td>14500000</td>\n",
       "      <td>6800000</td>\n",
       "      <td>22200000</td>\n",
       "      <td>24420000</td>\n",
       "    </tr>\n",
       "  </tbody>\n",
       "</table>\n",
       "</div>"
      ],
      "text/plain": [
       "                 Gare  Latitude  Longitude       2019      2020       2021  \\\n",
       "0         Paris Bercy   48.8397     2.3869    4100000   3600000    3300000   \n",
       "1  Paris Saint-Lazare   48.8760     2.3275  115800000  56500000   91500000   \n",
       "2  Paris Gare de Lyon   48.8448     2.3734  109700000  46200000   79900000   \n",
       "3  Paris Gare du Nord   48.8809     2.3554  222700000  70100000  126600000   \n",
       "4  Paris Montparnasse   48.8404     2.3209   57200000  28300000   41100000   \n",
       "5           Paris Est   48.8762     2.3581   34100000  15600000   27700000   \n",
       "6    Paris Austerlitz   48.8413     2.3644   14500000   6800000   22200000   \n",
       "\n",
       "        2022  \n",
       "0    3630000  \n",
       "1  100650000  \n",
       "2   87890000  \n",
       "3  139260000  \n",
       "4   45210000  \n",
       "5   30470000  \n",
       "6   24420000  "
      ]
     },
     "execution_count": 89,
     "metadata": {},
     "output_type": "execute_result"
    }
   ],
   "source": [
    "df = pd.read_csv('gares.csv')\n",
    "\n",
    "# Affichage des 5 premières lignes du DataFrame\n",
    "df\n"
   ]
  },
  {
   "cell_type": "code",
   "execution_count": 90,
   "metadata": {},
   "outputs": [],
   "source": [
    "import sqlite3\n",
    "\n",
    "# Connexion à la base de données SQLite\n",
    "connexion = sqlite3.connect(\"db_objets_trouves.db\")\n",
    "curseur = connexion.cursor()\n",
    "\n",
    "# Création de la table combinée si elle n'existe pas\n",
    "curseur.execute(\"\"\"\n",
    "    CREATE TABLE IF NOT EXISTS gares_objets_perdus (\n",
    "        id INTEGER PRIMARY KEY AUTOINCREMENT,\n",
    "        gare TEXT NOT NULL,\n",
    "        latitude FLOAT,\n",
    "        longitude FLOAT,\n",
    "        annee INTEGER,\n",
    "        frequantation FLOAT,\n",
    "        Nbr_perdu INTEGER\n",
    "    )\n",
    "\"\"\")\n",
    "\n",
    "# Remplissage de la table combinée à partir des tables 'gares' et 'objet_perdu_annee'\n",
    "curseur.execute(\"\"\"\n",
    "    INSERT INTO gares_objets_perdus (gare, latitude, longitude, annee, frequantation, Nbr_perdu)\n",
    "    SELECT g.gare, g.latitude, g.longitude, o.annee, g.frequantation, o.Nbr_perdu\n",
    "    FROM gares g\n",
    "    LEFT JOIN objet_perdu_annee o ON g.gare = o.gare AND g.annee = o.annee\n",
    "    WHERE NOT EXISTS (\n",
    "        SELECT 1 FROM gares_objets_perdus\n",
    "        WHERE gare = g.gare AND annee = o.annee\n",
    "    )\n",
    "\"\"\")\n",
    "\n",
    "# Sauvegarde les modifications et fermeture de la connexion\n",
    "connexion.commit()\n",
    "connexion.close()\n"
   ]
  },
  {
   "cell_type": "code",
   "execution_count": 91,
   "metadata": {},
   "outputs": [],
   "source": [
    "import pandas as pd\n",
    "import plotly.express as px\n",
    "from dotenv import load_dotenv\n",
    "import os\n",
    "import sqlite3\n",
    "\n",
    "load_dotenv()  # charge les variables d'environnement à partir du fichier .env\n",
    "map_token = os.getenv('MAPBOX_TOKEN')  # récupère la valeur de la variable d'environnement MAPBOX_TOKEN\n",
    "\n",
    "# Connexion à la base de données SQLite et récupération des données de la table 'objet_perdu_annee'\n",
    "connexion = sqlite3.connect(\"db_objets_trouves.db\")\n",
    "df = pd.read_sql_query(\"SELECT * FROM gares_objets_perdus WHERE annee = 2019\", connexion)\n",
    "connexion.close()\n",
    "\n",
    "# Configuration de l'accès à l'API de Mapbox\n",
    "px.set_mapbox_access_token(map_token)\n",
    "\n",
    "# Création de la carte\n",
    "fig = px.scatter_mapbox(df, lat=\"latitude\", lon=\"longitude\", color=\"Nbr_perdu\", size=\"Nbr_perdu\",\n",
    "                  color_continuous_scale=px.colors.cyclical.IceFire, size_max=15, zoom=5, hover_name=\"gare\",\n",
    "                  hover_data={\"Nbr_perdu\": \":.0f\", \"frequantation\": True})\n",
    "\n",
    "# Affichage de la carte\n",
    "# Export en fichier HTML\n",
    "fig.write_html('carte_objets_perdus.html', auto_open=True)\n"
   ]
  },
  {
   "attachments": {},
   "cell_type": "markdown",
   "metadata": {},
   "source": [
    "#############################################################################################################\n"
   ]
  },
  {
   "cell_type": "code",
   "execution_count": 114,
   "metadata": {},
   "outputs": [
    {
     "data": {
      "text/html": [
       "<div>\n",
       "<style scoped>\n",
       "    .dataframe tbody tr th:only-of-type {\n",
       "        vertical-align: middle;\n",
       "    }\n",
       "\n",
       "    .dataframe tbody tr th {\n",
       "        vertical-align: top;\n",
       "    }\n",
       "\n",
       "    .dataframe thead th {\n",
       "        text-align: right;\n",
       "    }\n",
       "</style>\n",
       "<table border=\"1\" class=\"dataframe\">\n",
       "  <thead>\n",
       "    <tr style=\"text-align: right;\">\n",
       "      <th></th>\n",
       "      <th>id</th>\n",
       "      <th>gare</th>\n",
       "      <th>latitude</th>\n",
       "      <th>longitude</th>\n",
       "      <th>annee</th>\n",
       "      <th>frequantation</th>\n",
       "      <th>Nbr_perdu</th>\n",
       "    </tr>\n",
       "  </thead>\n",
       "  <tbody>\n",
       "    <tr>\n",
       "      <th>0</th>\n",
       "      <td>1</td>\n",
       "      <td>Paris Bercy</td>\n",
       "      <td>48.8397</td>\n",
       "      <td>2.3869</td>\n",
       "      <td>2019</td>\n",
       "      <td>4100000.0</td>\n",
       "      <td>570</td>\n",
       "    </tr>\n",
       "    <tr>\n",
       "      <th>4</th>\n",
       "      <td>5</td>\n",
       "      <td>Paris Saint-Lazare</td>\n",
       "      <td>48.8760</td>\n",
       "      <td>2.3275</td>\n",
       "      <td>2019</td>\n",
       "      <td>115800000.0</td>\n",
       "      <td>3779</td>\n",
       "    </tr>\n",
       "    <tr>\n",
       "      <th>8</th>\n",
       "      <td>9</td>\n",
       "      <td>Paris Gare de Lyon</td>\n",
       "      <td>48.8448</td>\n",
       "      <td>2.3734</td>\n",
       "      <td>2019</td>\n",
       "      <td>109700000.0</td>\n",
       "      <td>7435</td>\n",
       "    </tr>\n",
       "    <tr>\n",
       "      <th>12</th>\n",
       "      <td>13</td>\n",
       "      <td>Paris Gare du Nord</td>\n",
       "      <td>48.8809</td>\n",
       "      <td>2.3554</td>\n",
       "      <td>2019</td>\n",
       "      <td>222700000.0</td>\n",
       "      <td>5784</td>\n",
       "    </tr>\n",
       "    <tr>\n",
       "      <th>16</th>\n",
       "      <td>17</td>\n",
       "      <td>Paris Montparnasse</td>\n",
       "      <td>48.8404</td>\n",
       "      <td>2.3209</td>\n",
       "      <td>2019</td>\n",
       "      <td>57200000.0</td>\n",
       "      <td>6978</td>\n",
       "    </tr>\n",
       "    <tr>\n",
       "      <th>20</th>\n",
       "      <td>21</td>\n",
       "      <td>Paris Est</td>\n",
       "      <td>48.8762</td>\n",
       "      <td>2.3581</td>\n",
       "      <td>2019</td>\n",
       "      <td>34100000.0</td>\n",
       "      <td>1589</td>\n",
       "    </tr>\n",
       "    <tr>\n",
       "      <th>24</th>\n",
       "      <td>25</td>\n",
       "      <td>Paris Austerlitz</td>\n",
       "      <td>48.8413</td>\n",
       "      <td>2.3644</td>\n",
       "      <td>2019</td>\n",
       "      <td>14500000.0</td>\n",
       "      <td>426</td>\n",
       "    </tr>\n",
       "  </tbody>\n",
       "</table>\n",
       "</div>"
      ],
      "text/plain": [
       "    id                gare  latitude  longitude  annee  frequantation  \\\n",
       "0    1         Paris Bercy   48.8397     2.3869   2019      4100000.0   \n",
       "4    5  Paris Saint-Lazare   48.8760     2.3275   2019    115800000.0   \n",
       "8    9  Paris Gare de Lyon   48.8448     2.3734   2019    109700000.0   \n",
       "12  13  Paris Gare du Nord   48.8809     2.3554   2019    222700000.0   \n",
       "16  17  Paris Montparnasse   48.8404     2.3209   2019     57200000.0   \n",
       "20  21           Paris Est   48.8762     2.3581   2019     34100000.0   \n",
       "24  25    Paris Austerlitz   48.8413     2.3644   2019     14500000.0   \n",
       "\n",
       "    Nbr_perdu  \n",
       "0         570  \n",
       "4        3779  \n",
       "8        7435  \n",
       "12       5784  \n",
       "16       6978  \n",
       "20       1589  \n",
       "24        426  "
      ]
     },
     "execution_count": 114,
     "metadata": {},
     "output_type": "execute_result"
    }
   ],
   "source": [
    "# Connexion à la base de données SQLite\n",
    "connexion = sqlite3.connect(\"db_objets_trouves.db\")\n",
    "\n",
    "# Lecture de la table 'gares' et stockage dans un dataframe Pandas\n",
    "df_test = pd.read_sql_query(\"SELECT * from gares_objets_perdus\", connexion)\n",
    "\n",
    "# Filtrage des données pour ne garder que l'année 2019\n",
    "df_test_2019 = df_test[df_test['annee'] == 2019]\n",
    "\n",
    "# Fermeture de la connexion à la base de données\n",
    "connexion.close()\n",
    "\n",
    "# Affichage du contenu du dataframe\n",
    "df_test_2019"
   ]
  },
  {
   "cell_type": "code",
   "execution_count": 116,
   "metadata": {},
   "outputs": [
    {
     "data": {
      "application/vnd.plotly.v1+json": {
       "config": {
        "plotlyServerURL": "https://plot.ly"
       },
       "data": [
        {
         "hovertemplate": "gare=Paris Bercy<br>frequantation=%{x}<br>Nbr_perdu=%{y}<extra></extra>",
         "legendgroup": "Paris Bercy",
         "marker": {
          "color": "#636efa",
          "symbol": "circle"
         },
         "mode": "markers",
         "name": "Paris Bercy",
         "orientation": "v",
         "showlegend": true,
         "type": "scatter",
         "x": [
          4100000
         ],
         "xaxis": "x",
         "y": [
          570
         ],
         "yaxis": "y"
        },
        {
         "hovertemplate": "gare=Paris Saint-Lazare<br>frequantation=%{x}<br>Nbr_perdu=%{y}<extra></extra>",
         "legendgroup": "Paris Saint-Lazare",
         "marker": {
          "color": "#EF553B",
          "symbol": "circle"
         },
         "mode": "markers",
         "name": "Paris Saint-Lazare",
         "orientation": "v",
         "showlegend": true,
         "type": "scatter",
         "x": [
          115800000
         ],
         "xaxis": "x",
         "y": [
          3779
         ],
         "yaxis": "y"
        },
        {
         "hovertemplate": "gare=Paris Gare de Lyon<br>frequantation=%{x}<br>Nbr_perdu=%{y}<extra></extra>",
         "legendgroup": "Paris Gare de Lyon",
         "marker": {
          "color": "#00cc96",
          "symbol": "circle"
         },
         "mode": "markers",
         "name": "Paris Gare de Lyon",
         "orientation": "v",
         "showlegend": true,
         "type": "scatter",
         "x": [
          109700000
         ],
         "xaxis": "x",
         "y": [
          7435
         ],
         "yaxis": "y"
        },
        {
         "hovertemplate": "gare=Paris Gare du Nord<br>frequantation=%{x}<br>Nbr_perdu=%{y}<extra></extra>",
         "legendgroup": "Paris Gare du Nord",
         "marker": {
          "color": "#ab63fa",
          "symbol": "circle"
         },
         "mode": "markers",
         "name": "Paris Gare du Nord",
         "orientation": "v",
         "showlegend": true,
         "type": "scatter",
         "x": [
          222700000
         ],
         "xaxis": "x",
         "y": [
          5784
         ],
         "yaxis": "y"
        },
        {
         "hovertemplate": "gare=Paris Montparnasse<br>frequantation=%{x}<br>Nbr_perdu=%{y}<extra></extra>",
         "legendgroup": "Paris Montparnasse",
         "marker": {
          "color": "#FFA15A",
          "symbol": "circle"
         },
         "mode": "markers",
         "name": "Paris Montparnasse",
         "orientation": "v",
         "showlegend": true,
         "type": "scatter",
         "x": [
          57200000
         ],
         "xaxis": "x",
         "y": [
          6978
         ],
         "yaxis": "y"
        },
        {
         "hovertemplate": "gare=Paris Est<br>frequantation=%{x}<br>Nbr_perdu=%{y}<extra></extra>",
         "legendgroup": "Paris Est",
         "marker": {
          "color": "#19d3f3",
          "symbol": "circle"
         },
         "mode": "markers",
         "name": "Paris Est",
         "orientation": "v",
         "showlegend": true,
         "type": "scatter",
         "x": [
          34100000
         ],
         "xaxis": "x",
         "y": [
          1589
         ],
         "yaxis": "y"
        },
        {
         "hovertemplate": "gare=Paris Austerlitz<br>frequantation=%{x}<br>Nbr_perdu=%{y}<extra></extra>",
         "legendgroup": "Paris Austerlitz",
         "marker": {
          "color": "#FF6692",
          "symbol": "circle"
         },
         "mode": "markers",
         "name": "Paris Austerlitz",
         "orientation": "v",
         "showlegend": true,
         "type": "scatter",
         "x": [
          14500000
         ],
         "xaxis": "x",
         "y": [
          426
         ],
         "yaxis": "y"
        }
       ],
       "layout": {
        "legend": {
         "title": {
          "text": "gare"
         },
         "tracegroupgap": 0
        },
        "margin": {
         "t": 60
        },
        "template": {
         "data": {
          "bar": [
           {
            "error_x": {
             "color": "#2a3f5f"
            },
            "error_y": {
             "color": "#2a3f5f"
            },
            "marker": {
             "line": {
              "color": "#E5ECF6",
              "width": 0.5
             },
             "pattern": {
              "fillmode": "overlay",
              "size": 10,
              "solidity": 0.2
             }
            },
            "type": "bar"
           }
          ],
          "barpolar": [
           {
            "marker": {
             "line": {
              "color": "#E5ECF6",
              "width": 0.5
             },
             "pattern": {
              "fillmode": "overlay",
              "size": 10,
              "solidity": 0.2
             }
            },
            "type": "barpolar"
           }
          ],
          "carpet": [
           {
            "aaxis": {
             "endlinecolor": "#2a3f5f",
             "gridcolor": "white",
             "linecolor": "white",
             "minorgridcolor": "white",
             "startlinecolor": "#2a3f5f"
            },
            "baxis": {
             "endlinecolor": "#2a3f5f",
             "gridcolor": "white",
             "linecolor": "white",
             "minorgridcolor": "white",
             "startlinecolor": "#2a3f5f"
            },
            "type": "carpet"
           }
          ],
          "choropleth": [
           {
            "colorbar": {
             "outlinewidth": 0,
             "ticks": ""
            },
            "type": "choropleth"
           }
          ],
          "contour": [
           {
            "colorbar": {
             "outlinewidth": 0,
             "ticks": ""
            },
            "colorscale": [
             [
              0,
              "#0d0887"
             ],
             [
              0.1111111111111111,
              "#46039f"
             ],
             [
              0.2222222222222222,
              "#7201a8"
             ],
             [
              0.3333333333333333,
              "#9c179e"
             ],
             [
              0.4444444444444444,
              "#bd3786"
             ],
             [
              0.5555555555555556,
              "#d8576b"
             ],
             [
              0.6666666666666666,
              "#ed7953"
             ],
             [
              0.7777777777777778,
              "#fb9f3a"
             ],
             [
              0.8888888888888888,
              "#fdca26"
             ],
             [
              1,
              "#f0f921"
             ]
            ],
            "type": "contour"
           }
          ],
          "contourcarpet": [
           {
            "colorbar": {
             "outlinewidth": 0,
             "ticks": ""
            },
            "type": "contourcarpet"
           }
          ],
          "heatmap": [
           {
            "colorbar": {
             "outlinewidth": 0,
             "ticks": ""
            },
            "colorscale": [
             [
              0,
              "#0d0887"
             ],
             [
              0.1111111111111111,
              "#46039f"
             ],
             [
              0.2222222222222222,
              "#7201a8"
             ],
             [
              0.3333333333333333,
              "#9c179e"
             ],
             [
              0.4444444444444444,
              "#bd3786"
             ],
             [
              0.5555555555555556,
              "#d8576b"
             ],
             [
              0.6666666666666666,
              "#ed7953"
             ],
             [
              0.7777777777777778,
              "#fb9f3a"
             ],
             [
              0.8888888888888888,
              "#fdca26"
             ],
             [
              1,
              "#f0f921"
             ]
            ],
            "type": "heatmap"
           }
          ],
          "heatmapgl": [
           {
            "colorbar": {
             "outlinewidth": 0,
             "ticks": ""
            },
            "colorscale": [
             [
              0,
              "#0d0887"
             ],
             [
              0.1111111111111111,
              "#46039f"
             ],
             [
              0.2222222222222222,
              "#7201a8"
             ],
             [
              0.3333333333333333,
              "#9c179e"
             ],
             [
              0.4444444444444444,
              "#bd3786"
             ],
             [
              0.5555555555555556,
              "#d8576b"
             ],
             [
              0.6666666666666666,
              "#ed7953"
             ],
             [
              0.7777777777777778,
              "#fb9f3a"
             ],
             [
              0.8888888888888888,
              "#fdca26"
             ],
             [
              1,
              "#f0f921"
             ]
            ],
            "type": "heatmapgl"
           }
          ],
          "histogram": [
           {
            "marker": {
             "pattern": {
              "fillmode": "overlay",
              "size": 10,
              "solidity": 0.2
             }
            },
            "type": "histogram"
           }
          ],
          "histogram2d": [
           {
            "colorbar": {
             "outlinewidth": 0,
             "ticks": ""
            },
            "colorscale": [
             [
              0,
              "#0d0887"
             ],
             [
              0.1111111111111111,
              "#46039f"
             ],
             [
              0.2222222222222222,
              "#7201a8"
             ],
             [
              0.3333333333333333,
              "#9c179e"
             ],
             [
              0.4444444444444444,
              "#bd3786"
             ],
             [
              0.5555555555555556,
              "#d8576b"
             ],
             [
              0.6666666666666666,
              "#ed7953"
             ],
             [
              0.7777777777777778,
              "#fb9f3a"
             ],
             [
              0.8888888888888888,
              "#fdca26"
             ],
             [
              1,
              "#f0f921"
             ]
            ],
            "type": "histogram2d"
           }
          ],
          "histogram2dcontour": [
           {
            "colorbar": {
             "outlinewidth": 0,
             "ticks": ""
            },
            "colorscale": [
             [
              0,
              "#0d0887"
             ],
             [
              0.1111111111111111,
              "#46039f"
             ],
             [
              0.2222222222222222,
              "#7201a8"
             ],
             [
              0.3333333333333333,
              "#9c179e"
             ],
             [
              0.4444444444444444,
              "#bd3786"
             ],
             [
              0.5555555555555556,
              "#d8576b"
             ],
             [
              0.6666666666666666,
              "#ed7953"
             ],
             [
              0.7777777777777778,
              "#fb9f3a"
             ],
             [
              0.8888888888888888,
              "#fdca26"
             ],
             [
              1,
              "#f0f921"
             ]
            ],
            "type": "histogram2dcontour"
           }
          ],
          "mesh3d": [
           {
            "colorbar": {
             "outlinewidth": 0,
             "ticks": ""
            },
            "type": "mesh3d"
           }
          ],
          "parcoords": [
           {
            "line": {
             "colorbar": {
              "outlinewidth": 0,
              "ticks": ""
             }
            },
            "type": "parcoords"
           }
          ],
          "pie": [
           {
            "automargin": true,
            "type": "pie"
           }
          ],
          "scatter": [
           {
            "fillpattern": {
             "fillmode": "overlay",
             "size": 10,
             "solidity": 0.2
            },
            "type": "scatter"
           }
          ],
          "scatter3d": [
           {
            "line": {
             "colorbar": {
              "outlinewidth": 0,
              "ticks": ""
             }
            },
            "marker": {
             "colorbar": {
              "outlinewidth": 0,
              "ticks": ""
             }
            },
            "type": "scatter3d"
           }
          ],
          "scattercarpet": [
           {
            "marker": {
             "colorbar": {
              "outlinewidth": 0,
              "ticks": ""
             }
            },
            "type": "scattercarpet"
           }
          ],
          "scattergeo": [
           {
            "marker": {
             "colorbar": {
              "outlinewidth": 0,
              "ticks": ""
             }
            },
            "type": "scattergeo"
           }
          ],
          "scattergl": [
           {
            "marker": {
             "colorbar": {
              "outlinewidth": 0,
              "ticks": ""
             }
            },
            "type": "scattergl"
           }
          ],
          "scattermapbox": [
           {
            "marker": {
             "colorbar": {
              "outlinewidth": 0,
              "ticks": ""
             }
            },
            "type": "scattermapbox"
           }
          ],
          "scatterpolar": [
           {
            "marker": {
             "colorbar": {
              "outlinewidth": 0,
              "ticks": ""
             }
            },
            "type": "scatterpolar"
           }
          ],
          "scatterpolargl": [
           {
            "marker": {
             "colorbar": {
              "outlinewidth": 0,
              "ticks": ""
             }
            },
            "type": "scatterpolargl"
           }
          ],
          "scatterternary": [
           {
            "marker": {
             "colorbar": {
              "outlinewidth": 0,
              "ticks": ""
             }
            },
            "type": "scatterternary"
           }
          ],
          "surface": [
           {
            "colorbar": {
             "outlinewidth": 0,
             "ticks": ""
            },
            "colorscale": [
             [
              0,
              "#0d0887"
             ],
             [
              0.1111111111111111,
              "#46039f"
             ],
             [
              0.2222222222222222,
              "#7201a8"
             ],
             [
              0.3333333333333333,
              "#9c179e"
             ],
             [
              0.4444444444444444,
              "#bd3786"
             ],
             [
              0.5555555555555556,
              "#d8576b"
             ],
             [
              0.6666666666666666,
              "#ed7953"
             ],
             [
              0.7777777777777778,
              "#fb9f3a"
             ],
             [
              0.8888888888888888,
              "#fdca26"
             ],
             [
              1,
              "#f0f921"
             ]
            ],
            "type": "surface"
           }
          ],
          "table": [
           {
            "cells": {
             "fill": {
              "color": "#EBF0F8"
             },
             "line": {
              "color": "white"
             }
            },
            "header": {
             "fill": {
              "color": "#C8D4E3"
             },
             "line": {
              "color": "white"
             }
            },
            "type": "table"
           }
          ]
         },
         "layout": {
          "annotationdefaults": {
           "arrowcolor": "#2a3f5f",
           "arrowhead": 0,
           "arrowwidth": 1
          },
          "autotypenumbers": "strict",
          "coloraxis": {
           "colorbar": {
            "outlinewidth": 0,
            "ticks": ""
           }
          },
          "colorscale": {
           "diverging": [
            [
             0,
             "#8e0152"
            ],
            [
             0.1,
             "#c51b7d"
            ],
            [
             0.2,
             "#de77ae"
            ],
            [
             0.3,
             "#f1b6da"
            ],
            [
             0.4,
             "#fde0ef"
            ],
            [
             0.5,
             "#f7f7f7"
            ],
            [
             0.6,
             "#e6f5d0"
            ],
            [
             0.7,
             "#b8e186"
            ],
            [
             0.8,
             "#7fbc41"
            ],
            [
             0.9,
             "#4d9221"
            ],
            [
             1,
             "#276419"
            ]
           ],
           "sequential": [
            [
             0,
             "#0d0887"
            ],
            [
             0.1111111111111111,
             "#46039f"
            ],
            [
             0.2222222222222222,
             "#7201a8"
            ],
            [
             0.3333333333333333,
             "#9c179e"
            ],
            [
             0.4444444444444444,
             "#bd3786"
            ],
            [
             0.5555555555555556,
             "#d8576b"
            ],
            [
             0.6666666666666666,
             "#ed7953"
            ],
            [
             0.7777777777777778,
             "#fb9f3a"
            ],
            [
             0.8888888888888888,
             "#fdca26"
            ],
            [
             1,
             "#f0f921"
            ]
           ],
           "sequentialminus": [
            [
             0,
             "#0d0887"
            ],
            [
             0.1111111111111111,
             "#46039f"
            ],
            [
             0.2222222222222222,
             "#7201a8"
            ],
            [
             0.3333333333333333,
             "#9c179e"
            ],
            [
             0.4444444444444444,
             "#bd3786"
            ],
            [
             0.5555555555555556,
             "#d8576b"
            ],
            [
             0.6666666666666666,
             "#ed7953"
            ],
            [
             0.7777777777777778,
             "#fb9f3a"
            ],
            [
             0.8888888888888888,
             "#fdca26"
            ],
            [
             1,
             "#f0f921"
            ]
           ]
          },
          "colorway": [
           "#636efa",
           "#EF553B",
           "#00cc96",
           "#ab63fa",
           "#FFA15A",
           "#19d3f3",
           "#FF6692",
           "#B6E880",
           "#FF97FF",
           "#FECB52"
          ],
          "font": {
           "color": "#2a3f5f"
          },
          "geo": {
           "bgcolor": "white",
           "lakecolor": "white",
           "landcolor": "#E5ECF6",
           "showlakes": true,
           "showland": true,
           "subunitcolor": "white"
          },
          "hoverlabel": {
           "align": "left"
          },
          "hovermode": "closest",
          "mapbox": {
           "style": "light"
          },
          "paper_bgcolor": "white",
          "plot_bgcolor": "#E5ECF6",
          "polar": {
           "angularaxis": {
            "gridcolor": "white",
            "linecolor": "white",
            "ticks": ""
           },
           "bgcolor": "#E5ECF6",
           "radialaxis": {
            "gridcolor": "white",
            "linecolor": "white",
            "ticks": ""
           }
          },
          "scene": {
           "xaxis": {
            "backgroundcolor": "#E5ECF6",
            "gridcolor": "white",
            "gridwidth": 2,
            "linecolor": "white",
            "showbackground": true,
            "ticks": "",
            "zerolinecolor": "white"
           },
           "yaxis": {
            "backgroundcolor": "#E5ECF6",
            "gridcolor": "white",
            "gridwidth": 2,
            "linecolor": "white",
            "showbackground": true,
            "ticks": "",
            "zerolinecolor": "white"
           },
           "zaxis": {
            "backgroundcolor": "#E5ECF6",
            "gridcolor": "white",
            "gridwidth": 2,
            "linecolor": "white",
            "showbackground": true,
            "ticks": "",
            "zerolinecolor": "white"
           }
          },
          "shapedefaults": {
           "line": {
            "color": "#2a3f5f"
           }
          },
          "ternary": {
           "aaxis": {
            "gridcolor": "white",
            "linecolor": "white",
            "ticks": ""
           },
           "baxis": {
            "gridcolor": "white",
            "linecolor": "white",
            "ticks": ""
           },
           "bgcolor": "#E5ECF6",
           "caxis": {
            "gridcolor": "white",
            "linecolor": "white",
            "ticks": ""
           }
          },
          "title": {
           "x": 0.05
          },
          "xaxis": {
           "automargin": true,
           "gridcolor": "white",
           "linecolor": "white",
           "ticks": "",
           "title": {
            "standoff": 15
           },
           "zerolinecolor": "white",
           "zerolinewidth": 2
          },
          "yaxis": {
           "automargin": true,
           "gridcolor": "white",
           "linecolor": "white",
           "ticks": "",
           "title": {
            "standoff": 15
           },
           "zerolinecolor": "white",
           "zerolinewidth": 2
          }
         }
        },
        "xaxis": {
         "anchor": "y",
         "domain": [
          0,
          1
         ],
         "title": {
          "text": "frequantation"
         }
        },
        "yaxis": {
         "anchor": "x",
         "domain": [
          0,
          1
         ],
         "title": {
          "text": "Nbr_perdu"
         }
        }
       }
      }
     },
     "metadata": {},
     "output_type": "display_data"
    }
   ],
   "source": [
    "fig = px.scatter(df, x=\"frequantation\", y=\"Nbr_perdu\", color=\"gare\")\n",
    "\n",
    "# Affichage de la figure\n",
    "fig.show()"
   ]
  },
  {
   "cell_type": "code",
   "execution_count": 112,
   "metadata": {},
   "outputs": [
    {
     "name": "stderr",
     "output_type": "stream",
     "text": [
      "/tmp/ipykernel_82692/3964880521.py:1: FutureWarning:\n",
      "\n",
      "Indexing with multiple keys (implicitly converted to a tuple of keys) will be deprecated, use a list instead.\n",
      "\n"
     ]
    },
    {
     "data": {
      "text/html": [
       "<div>\n",
       "<style scoped>\n",
       "    .dataframe tbody tr th:only-of-type {\n",
       "        vertical-align: middle;\n",
       "    }\n",
       "\n",
       "    .dataframe tbody tr th {\n",
       "        vertical-align: top;\n",
       "    }\n",
       "\n",
       "    .dataframe thead tr th {\n",
       "        text-align: left;\n",
       "    }\n",
       "\n",
       "    .dataframe thead tr:last-of-type th {\n",
       "        text-align: right;\n",
       "    }\n",
       "</style>\n",
       "<table border=\"1\" class=\"dataframe\">\n",
       "  <thead>\n",
       "    <tr>\n",
       "      <th></th>\n",
       "      <th colspan=\"8\" halign=\"left\">Nbr_perdu</th>\n",
       "      <th colspan=\"8\" halign=\"left\">frequantation</th>\n",
       "    </tr>\n",
       "    <tr>\n",
       "      <th></th>\n",
       "      <th>count</th>\n",
       "      <th>mean</th>\n",
       "      <th>std</th>\n",
       "      <th>min</th>\n",
       "      <th>25%</th>\n",
       "      <th>50%</th>\n",
       "      <th>75%</th>\n",
       "      <th>max</th>\n",
       "      <th>count</th>\n",
       "      <th>mean</th>\n",
       "      <th>std</th>\n",
       "      <th>min</th>\n",
       "      <th>25%</th>\n",
       "      <th>50%</th>\n",
       "      <th>75%</th>\n",
       "      <th>max</th>\n",
       "    </tr>\n",
       "    <tr>\n",
       "      <th>gare</th>\n",
       "      <th></th>\n",
       "      <th></th>\n",
       "      <th></th>\n",
       "      <th></th>\n",
       "      <th></th>\n",
       "      <th></th>\n",
       "      <th></th>\n",
       "      <th></th>\n",
       "      <th></th>\n",
       "      <th></th>\n",
       "      <th></th>\n",
       "      <th></th>\n",
       "      <th></th>\n",
       "      <th></th>\n",
       "      <th></th>\n",
       "      <th></th>\n",
       "    </tr>\n",
       "  </thead>\n",
       "  <tbody>\n",
       "    <tr>\n",
       "      <th>Paris Austerlitz</th>\n",
       "      <td>4.0</td>\n",
       "      <td>418.25</td>\n",
       "      <td>160.369106</td>\n",
       "      <td>239.0</td>\n",
       "      <td>345.50</td>\n",
       "      <td>403.5</td>\n",
       "      <td>476.25</td>\n",
       "      <td>627.0</td>\n",
       "      <td>4.0</td>\n",
       "      <td>16980000.0</td>\n",
       "      <td>8.008013e+06</td>\n",
       "      <td>6800000.0</td>\n",
       "      <td>12575000.0</td>\n",
       "      <td>18350000.0</td>\n",
       "      <td>22755000.0</td>\n",
       "      <td>24420000.0</td>\n",
       "    </tr>\n",
       "    <tr>\n",
       "      <th>Paris Bercy</th>\n",
       "      <td>4.0</td>\n",
       "      <td>373.50</td>\n",
       "      <td>131.657384</td>\n",
       "      <td>293.0</td>\n",
       "      <td>302.75</td>\n",
       "      <td>315.5</td>\n",
       "      <td>386.25</td>\n",
       "      <td>570.0</td>\n",
       "      <td>4.0</td>\n",
       "      <td>3657500.0</td>\n",
       "      <td>3.304921e+05</td>\n",
       "      <td>3300000.0</td>\n",
       "      <td>3525000.0</td>\n",
       "      <td>3615000.0</td>\n",
       "      <td>3747500.0</td>\n",
       "      <td>4100000.0</td>\n",
       "    </tr>\n",
       "    <tr>\n",
       "      <th>Paris Est</th>\n",
       "      <td>4.0</td>\n",
       "      <td>1183.25</td>\n",
       "      <td>336.518821</td>\n",
       "      <td>844.0</td>\n",
       "      <td>946.00</td>\n",
       "      <td>1150.0</td>\n",
       "      <td>1387.25</td>\n",
       "      <td>1589.0</td>\n",
       "      <td>4.0</td>\n",
       "      <td>26967500.0</td>\n",
       "      <td>8.018659e+06</td>\n",
       "      <td>15600000.0</td>\n",
       "      <td>24675000.0</td>\n",
       "      <td>29085000.0</td>\n",
       "      <td>31377500.0</td>\n",
       "      <td>34100000.0</td>\n",
       "    </tr>\n",
       "    <tr>\n",
       "      <th>Paris Gare de Lyon</th>\n",
       "      <td>4.0</td>\n",
       "      <td>5930.00</td>\n",
       "      <td>1419.980516</td>\n",
       "      <td>4358.0</td>\n",
       "      <td>4955.00</td>\n",
       "      <td>5963.5</td>\n",
       "      <td>6938.50</td>\n",
       "      <td>7435.0</td>\n",
       "      <td>4.0</td>\n",
       "      <td>80922500.0</td>\n",
       "      <td>2.635266e+07</td>\n",
       "      <td>46200000.0</td>\n",
       "      <td>71475000.0</td>\n",
       "      <td>83895000.0</td>\n",
       "      <td>93342500.0</td>\n",
       "      <td>109700000.0</td>\n",
       "    </tr>\n",
       "    <tr>\n",
       "      <th>Paris Gare du Nord</th>\n",
       "      <td>4.0</td>\n",
       "      <td>3461.00</td>\n",
       "      <td>1683.464087</td>\n",
       "      <td>2101.0</td>\n",
       "      <td>2287.75</td>\n",
       "      <td>2979.5</td>\n",
       "      <td>4152.75</td>\n",
       "      <td>5784.0</td>\n",
       "      <td>4.0</td>\n",
       "      <td>139665000.0</td>\n",
       "      <td>6.299460e+07</td>\n",
       "      <td>70100000.0</td>\n",
       "      <td>112475000.0</td>\n",
       "      <td>132930000.0</td>\n",
       "      <td>160120000.0</td>\n",
       "      <td>222700000.0</td>\n",
       "    </tr>\n",
       "    <tr>\n",
       "      <th>Paris Montparnasse</th>\n",
       "      <td>4.0</td>\n",
       "      <td>5878.00</td>\n",
       "      <td>1309.688258</td>\n",
       "      <td>4113.0</td>\n",
       "      <td>5275.50</td>\n",
       "      <td>6210.5</td>\n",
       "      <td>6813.00</td>\n",
       "      <td>6978.0</td>\n",
       "      <td>4.0</td>\n",
       "      <td>42952500.0</td>\n",
       "      <td>1.191938e+07</td>\n",
       "      <td>28300000.0</td>\n",
       "      <td>37900000.0</td>\n",
       "      <td>43155000.0</td>\n",
       "      <td>48207500.0</td>\n",
       "      <td>57200000.0</td>\n",
       "    </tr>\n",
       "    <tr>\n",
       "      <th>Paris Saint-Lazare</th>\n",
       "      <td>4.0</td>\n",
       "      <td>3164.00</td>\n",
       "      <td>1154.119000</td>\n",
       "      <td>1595.0</td>\n",
       "      <td>2685.50</td>\n",
       "      <td>3414.0</td>\n",
       "      <td>3892.50</td>\n",
       "      <td>4233.0</td>\n",
       "      <td>4.0</td>\n",
       "      <td>91112500.0</td>\n",
       "      <td>2.515692e+07</td>\n",
       "      <td>56500000.0</td>\n",
       "      <td>82750000.0</td>\n",
       "      <td>96075000.0</td>\n",
       "      <td>104437500.0</td>\n",
       "      <td>115800000.0</td>\n",
       "    </tr>\n",
       "  </tbody>\n",
       "</table>\n",
       "</div>"
      ],
      "text/plain": [
       "                   Nbr_perdu                                                 \\\n",
       "                       count     mean          std     min      25%     50%   \n",
       "gare                                                                          \n",
       "Paris Austerlitz         4.0   418.25   160.369106   239.0   345.50   403.5   \n",
       "Paris Bercy              4.0   373.50   131.657384   293.0   302.75   315.5   \n",
       "Paris Est                4.0  1183.25   336.518821   844.0   946.00  1150.0   \n",
       "Paris Gare de Lyon       4.0  5930.00  1419.980516  4358.0  4955.00  5963.5   \n",
       "Paris Gare du Nord       4.0  3461.00  1683.464087  2101.0  2287.75  2979.5   \n",
       "Paris Montparnasse       4.0  5878.00  1309.688258  4113.0  5275.50  6210.5   \n",
       "Paris Saint-Lazare       4.0  3164.00  1154.119000  1595.0  2685.50  3414.0   \n",
       "\n",
       "                                    frequantation                             \\\n",
       "                        75%     max         count         mean           std   \n",
       "gare                                                                           \n",
       "Paris Austerlitz     476.25   627.0           4.0   16980000.0  8.008013e+06   \n",
       "Paris Bercy          386.25   570.0           4.0    3657500.0  3.304921e+05   \n",
       "Paris Est           1387.25  1589.0           4.0   26967500.0  8.018659e+06   \n",
       "Paris Gare de Lyon  6938.50  7435.0           4.0   80922500.0  2.635266e+07   \n",
       "Paris Gare du Nord  4152.75  5784.0           4.0  139665000.0  6.299460e+07   \n",
       "Paris Montparnasse  6813.00  6978.0           4.0   42952500.0  1.191938e+07   \n",
       "Paris Saint-Lazare  3892.50  4233.0           4.0   91112500.0  2.515692e+07   \n",
       "\n",
       "                                                                       \\\n",
       "                           min          25%          50%          75%   \n",
       "gare                                                                    \n",
       "Paris Austerlitz     6800000.0   12575000.0   18350000.0   22755000.0   \n",
       "Paris Bercy          3300000.0    3525000.0    3615000.0    3747500.0   \n",
       "Paris Est           15600000.0   24675000.0   29085000.0   31377500.0   \n",
       "Paris Gare de Lyon  46200000.0   71475000.0   83895000.0   93342500.0   \n",
       "Paris Gare du Nord  70100000.0  112475000.0  132930000.0  160120000.0   \n",
       "Paris Montparnasse  28300000.0   37900000.0   43155000.0   48207500.0   \n",
       "Paris Saint-Lazare  56500000.0   82750000.0   96075000.0  104437500.0   \n",
       "\n",
       "                                 \n",
       "                            max  \n",
       "gare                             \n",
       "Paris Austerlitz     24420000.0  \n",
       "Paris Bercy           4100000.0  \n",
       "Paris Est            34100000.0  \n",
       "Paris Gare de Lyon  109700000.0  \n",
       "Paris Gare du Nord  222700000.0  \n",
       "Paris Montparnasse   57200000.0  \n",
       "Paris Saint-Lazare  115800000.0  "
      ]
     },
     "execution_count": 112,
     "metadata": {},
     "output_type": "execute_result"
    }
   ],
   "source": [
    "grouped_test=df_test.groupby(\"gare\")[\"Nbr_perdu\",\"frequantation\"].describe()\n",
    "grouped_test"
   ]
  }
 ],
 "metadata": {
  "kernelspec": {
   "display_name": "machine_learning",
   "language": "python",
   "name": "python3"
  },
  "language_info": {
   "codemirror_mode": {
    "name": "ipython",
    "version": 3
   },
   "file_extension": ".py",
   "mimetype": "text/x-python",
   "name": "python",
   "nbconvert_exporter": "python",
   "pygments_lexer": "ipython3",
   "version": "3.10.9 (main, Jan 11 2023, 15:21:40) [GCC 11.2.0]"
  },
  "orig_nbformat": 4,
  "vscode": {
   "interpreter": {
    "hash": "6372ac1f96e6a574de8fb7db2482e4b51a9c7365ff441969ce58324c2dcfaf16"
   }
  }
 },
 "nbformat": 4,
 "nbformat_minor": 2
}
