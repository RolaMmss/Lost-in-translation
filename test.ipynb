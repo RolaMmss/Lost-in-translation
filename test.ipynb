{
 "cells": [
  {
   "cell_type": "code",
   "execution_count": 24,
   "metadata": {},
   "outputs": [
    {
     "name": "stdout",
     "output_type": "stream",
     "text": [
      "Le nombre total de voyageurs dans toutes les gares en 2019 est de : 558100000.0\n",
      "   id                gare  latitude  longitude  annee  frequantation  \\\n",
      "0   1         Paris Bercy   48.8397     2.3869   2019      4100000.0   \n",
      "1   5  Paris Saint-Lazare   48.8760     2.3275   2019    115800000.0   \n",
      "2   9  Paris Gare de Lyon   48.8448     2.3734   2019    109700000.0   \n",
      "3  13  Paris Gare du Nord   48.8809     2.3554   2019    222700000.0   \n",
      "4  17  Paris Montparnasse   48.8404     2.3209   2019     57200000.0   \n",
      "5  21           Paris Est   48.8762     2.3581   2019     34100000.0   \n",
      "6  25    Paris Austerlitz   48.8413     2.3644   2019     14500000.0   \n",
      "\n",
      "   Nbr_perdu    ratio  taux_objets_perdus_par_million  \n",
      "0        570   7192.0                      139.024390  \n",
      "1       3779  30643.0                       32.633851  \n",
      "2       7435  14754.0                       67.775752  \n",
      "3       5784  38502.0                       25.972160  \n",
      "4       6978   8197.0                      121.993007  \n",
      "5       1589  21460.0                       46.598240  \n",
      "6        426  34037.0                       29.379310  \n"
     ]
    }
   ],
   "source": [
    "import sqlite3\n",
    "import pandas as pd\n",
    "\n",
    "# Connexion à la base de données\n",
    "conn = sqlite3.connect('db_objets_trouves.db')\n",
    "\n",
    "# Sélectionner les données de 2019 (si nécessaire)\n",
    "df_2019 = pd.read_sql_query(\"SELECT * FROM gares_objets_perdus WHERE annee = 2019\", conn)\n",
    "\n",
    "# Calculer le nombre total de voyageurs dans toutes les gares en 2019\n",
    "total_voyageurs = df_2019['frequantation'].sum()\n",
    "\n",
    "print(\"Le nombre total de voyageurs dans toutes les gares en 2019 est de :\", total_voyageurs)\n",
    "\n",
    "# définir une fonction pour calculer le taux d'objets perdus par million de voyageurs pour chaque gare\n",
    "def calculer_taux(row):\n",
    "    taux = (row[\"Nbr_perdu\"] / row[\"frequantation\"]) * 1000000\n",
    "    return taux\n",
    "\n",
    "# ajouter une colonne \"taux_objets_perdus\" au dataframe en utilisant la fonction \"apply\"\n",
    "df_2019[\"taux_objets_perdus_par_million\"] = df_2019.apply(calculer_taux, axis=1)\n",
    "\n",
    "# Afficher le DataFrame avec la nouvelle colonne\n",
    "print(df_2019)\n",
    "\n",
    "# Fermer la connexion\n",
    "conn.close()\n"
   ]
  },
  {
   "cell_type": "code",
   "execution_count": 14,
   "metadata": {},
   "outputs": [
    {
     "data": {
      "text/html": [
       "<div>\n",
       "<style scoped>\n",
       "    .dataframe tbody tr th:only-of-type {\n",
       "        vertical-align: middle;\n",
       "    }\n",
       "\n",
       "    .dataframe tbody tr th {\n",
       "        vertical-align: top;\n",
       "    }\n",
       "\n",
       "    .dataframe thead th {\n",
       "        text-align: right;\n",
       "    }\n",
       "</style>\n",
       "<table border=\"1\" class=\"dataframe\">\n",
       "  <thead>\n",
       "    <tr style=\"text-align: right;\">\n",
       "      <th></th>\n",
       "      <th>id</th>\n",
       "      <th>gare</th>\n",
       "      <th>latitude</th>\n",
       "      <th>longitude</th>\n",
       "      <th>annee</th>\n",
       "      <th>frequantation</th>\n",
       "      <th>Nbr_perdu</th>\n",
       "      <th>ratio</th>\n",
       "    </tr>\n",
       "  </thead>\n",
       "  <tbody>\n",
       "    <tr>\n",
       "      <th>0</th>\n",
       "      <td>1</td>\n",
       "      <td>Paris Bercy</td>\n",
       "      <td>48.8397</td>\n",
       "      <td>2.3869</td>\n",
       "      <td>2019</td>\n",
       "      <td>4100000.0</td>\n",
       "      <td>570</td>\n",
       "      <td>7192.0</td>\n",
       "    </tr>\n",
       "    <tr>\n",
       "      <th>1</th>\n",
       "      <td>5</td>\n",
       "      <td>Paris Saint-Lazare</td>\n",
       "      <td>48.8760</td>\n",
       "      <td>2.3275</td>\n",
       "      <td>2019</td>\n",
       "      <td>115800000.0</td>\n",
       "      <td>3779</td>\n",
       "      <td>30643.0</td>\n",
       "    </tr>\n",
       "    <tr>\n",
       "      <th>2</th>\n",
       "      <td>9</td>\n",
       "      <td>Paris Gare de Lyon</td>\n",
       "      <td>48.8448</td>\n",
       "      <td>2.3734</td>\n",
       "      <td>2019</td>\n",
       "      <td>109700000.0</td>\n",
       "      <td>7435</td>\n",
       "      <td>14754.0</td>\n",
       "    </tr>\n",
       "    <tr>\n",
       "      <th>3</th>\n",
       "      <td>13</td>\n",
       "      <td>Paris Gare du Nord</td>\n",
       "      <td>48.8809</td>\n",
       "      <td>2.3554</td>\n",
       "      <td>2019</td>\n",
       "      <td>222700000.0</td>\n",
       "      <td>5784</td>\n",
       "      <td>38502.0</td>\n",
       "    </tr>\n",
       "    <tr>\n",
       "      <th>4</th>\n",
       "      <td>17</td>\n",
       "      <td>Paris Montparnasse</td>\n",
       "      <td>48.8404</td>\n",
       "      <td>2.3209</td>\n",
       "      <td>2019</td>\n",
       "      <td>57200000.0</td>\n",
       "      <td>6978</td>\n",
       "      <td>8197.0</td>\n",
       "    </tr>\n",
       "    <tr>\n",
       "      <th>5</th>\n",
       "      <td>21</td>\n",
       "      <td>Paris Est</td>\n",
       "      <td>48.8762</td>\n",
       "      <td>2.3581</td>\n",
       "      <td>2019</td>\n",
       "      <td>34100000.0</td>\n",
       "      <td>1589</td>\n",
       "      <td>21460.0</td>\n",
       "    </tr>\n",
       "    <tr>\n",
       "      <th>6</th>\n",
       "      <td>25</td>\n",
       "      <td>Paris Austerlitz</td>\n",
       "      <td>48.8413</td>\n",
       "      <td>2.3644</td>\n",
       "      <td>2019</td>\n",
       "      <td>14500000.0</td>\n",
       "      <td>426</td>\n",
       "      <td>34037.0</td>\n",
       "    </tr>\n",
       "  </tbody>\n",
       "</table>\n",
       "</div>"
      ],
      "text/plain": [
       "   id                gare  latitude  longitude  annee  frequantation  \\\n",
       "0   1         Paris Bercy   48.8397     2.3869   2019      4100000.0   \n",
       "1   5  Paris Saint-Lazare   48.8760     2.3275   2019    115800000.0   \n",
       "2   9  Paris Gare de Lyon   48.8448     2.3734   2019    109700000.0   \n",
       "3  13  Paris Gare du Nord   48.8809     2.3554   2019    222700000.0   \n",
       "4  17  Paris Montparnasse   48.8404     2.3209   2019     57200000.0   \n",
       "5  21           Paris Est   48.8762     2.3581   2019     34100000.0   \n",
       "6  25    Paris Austerlitz   48.8413     2.3644   2019     14500000.0   \n",
       "\n",
       "   Nbr_perdu    ratio  \n",
       "0        570   7192.0  \n",
       "1       3779  30643.0  \n",
       "2       7435  14754.0  \n",
       "3       5784  38502.0  \n",
       "4       6978   8197.0  \n",
       "5       1589  21460.0  \n",
       "6        426  34037.0  "
      ]
     },
     "execution_count": 14,
     "metadata": {},
     "output_type": "execute_result"
    }
   ],
   "source": [
    "df_2019"
   ]
  },
  {
   "cell_type": "code",
   "execution_count": 17,
   "metadata": {},
   "outputs": [
    {
     "data": {
      "text/plain": [
       "47.59182942125067"
      ]
     },
     "execution_count": 17,
     "metadata": {},
     "output_type": "execute_result"
    }
   ],
   "source": [
    "taux_densité = (total_objets_perdus / total_voyageurs) * 1000000\n",
    "taux_densité\n"
   ]
  },
  {
   "cell_type": "code",
   "execution_count": 15,
   "metadata": {},
   "outputs": [
    {
     "ename": "KeyError",
     "evalue": "'total_objets_perdus'",
     "output_type": "error",
     "traceback": [
      "\u001b[0;31m---------------------------------------------------------------------------\u001b[0m",
      "\u001b[0;31mKeyError\u001b[0m                                  Traceback (most recent call last)",
      "File \u001b[0;32m~/miniconda3/envs/machine_learning/lib/python3.10/site-packages/pandas/core/indexes/base.py:3802\u001b[0m, in \u001b[0;36mIndex.get_loc\u001b[0;34m(self, key, method, tolerance)\u001b[0m\n\u001b[1;32m   3801\u001b[0m \u001b[39mtry\u001b[39;00m:\n\u001b[0;32m-> 3802\u001b[0m     \u001b[39mreturn\u001b[39;00m \u001b[39mself\u001b[39;49m\u001b[39m.\u001b[39;49m_engine\u001b[39m.\u001b[39;49mget_loc(casted_key)\n\u001b[1;32m   3803\u001b[0m \u001b[39mexcept\u001b[39;00m \u001b[39mKeyError\u001b[39;00m \u001b[39mas\u001b[39;00m err:\n",
      "File \u001b[0;32m~/miniconda3/envs/machine_learning/lib/python3.10/site-packages/pandas/_libs/index.pyx:138\u001b[0m, in \u001b[0;36mpandas._libs.index.IndexEngine.get_loc\u001b[0;34m()\u001b[0m\n",
      "File \u001b[0;32m~/miniconda3/envs/machine_learning/lib/python3.10/site-packages/pandas/_libs/index.pyx:165\u001b[0m, in \u001b[0;36mpandas._libs.index.IndexEngine.get_loc\u001b[0;34m()\u001b[0m\n",
      "File \u001b[0;32mpandas/_libs/hashtable_class_helper.pxi:5745\u001b[0m, in \u001b[0;36mpandas._libs.hashtable.PyObjectHashTable.get_item\u001b[0;34m()\u001b[0m\n",
      "File \u001b[0;32mpandas/_libs/hashtable_class_helper.pxi:5753\u001b[0m, in \u001b[0;36mpandas._libs.hashtable.PyObjectHashTable.get_item\u001b[0;34m()\u001b[0m\n",
      "\u001b[0;31mKeyError\u001b[0m: 'total_objets_perdus'",
      "\nThe above exception was the direct cause of the following exception:\n",
      "\u001b[0;31mKeyError\u001b[0m                                  Traceback (most recent call last)",
      "Cell \u001b[0;32mIn[15], line 2\u001b[0m\n\u001b[1;32m      1\u001b[0m \u001b[39m# Calculez le taux de densité pour chaque gare\u001b[39;00m\n\u001b[0;32m----> 2\u001b[0m df_2019[\u001b[39m'\u001b[39m\u001b[39mtaux_densité\u001b[39m\u001b[39m'\u001b[39m] \u001b[39m=\u001b[39m (df_2019[\u001b[39m'\u001b[39;49m\u001b[39mtotal_objets_perdus\u001b[39;49m\u001b[39m'\u001b[39;49m] \u001b[39m/\u001b[39m df_2019[\u001b[39m'\u001b[39m\u001b[39mtotal_voyageurs\u001b[39m\u001b[39m'\u001b[39m]) \u001b[39m*\u001b[39m \u001b[39m1000000\u001b[39m\n\u001b[1;32m      4\u001b[0m \u001b[39m# Affichez le dataframe avec la nouvelle colonne ajoutée\u001b[39;00m\n\u001b[1;32m      5\u001b[0m \u001b[39mprint\u001b[39m(df_2019\u001b[39m.\u001b[39mhead())\n",
      "File \u001b[0;32m~/miniconda3/envs/machine_learning/lib/python3.10/site-packages/pandas/core/frame.py:3807\u001b[0m, in \u001b[0;36mDataFrame.__getitem__\u001b[0;34m(self, key)\u001b[0m\n\u001b[1;32m   3805\u001b[0m \u001b[39mif\u001b[39;00m \u001b[39mself\u001b[39m\u001b[39m.\u001b[39mcolumns\u001b[39m.\u001b[39mnlevels \u001b[39m>\u001b[39m \u001b[39m1\u001b[39m:\n\u001b[1;32m   3806\u001b[0m     \u001b[39mreturn\u001b[39;00m \u001b[39mself\u001b[39m\u001b[39m.\u001b[39m_getitem_multilevel(key)\n\u001b[0;32m-> 3807\u001b[0m indexer \u001b[39m=\u001b[39m \u001b[39mself\u001b[39;49m\u001b[39m.\u001b[39;49mcolumns\u001b[39m.\u001b[39;49mget_loc(key)\n\u001b[1;32m   3808\u001b[0m \u001b[39mif\u001b[39;00m is_integer(indexer):\n\u001b[1;32m   3809\u001b[0m     indexer \u001b[39m=\u001b[39m [indexer]\n",
      "File \u001b[0;32m~/miniconda3/envs/machine_learning/lib/python3.10/site-packages/pandas/core/indexes/base.py:3804\u001b[0m, in \u001b[0;36mIndex.get_loc\u001b[0;34m(self, key, method, tolerance)\u001b[0m\n\u001b[1;32m   3802\u001b[0m     \u001b[39mreturn\u001b[39;00m \u001b[39mself\u001b[39m\u001b[39m.\u001b[39m_engine\u001b[39m.\u001b[39mget_loc(casted_key)\n\u001b[1;32m   3803\u001b[0m \u001b[39mexcept\u001b[39;00m \u001b[39mKeyError\u001b[39;00m \u001b[39mas\u001b[39;00m err:\n\u001b[0;32m-> 3804\u001b[0m     \u001b[39mraise\u001b[39;00m \u001b[39mKeyError\u001b[39;00m(key) \u001b[39mfrom\u001b[39;00m \u001b[39merr\u001b[39;00m\n\u001b[1;32m   3805\u001b[0m \u001b[39mexcept\u001b[39;00m \u001b[39mTypeError\u001b[39;00m:\n\u001b[1;32m   3806\u001b[0m     \u001b[39m# If we have a listlike key, _check_indexing_error will raise\u001b[39;00m\n\u001b[1;32m   3807\u001b[0m     \u001b[39m#  InvalidIndexError. Otherwise we fall through and re-raise\u001b[39;00m\n\u001b[1;32m   3808\u001b[0m     \u001b[39m#  the TypeError.\u001b[39;00m\n\u001b[1;32m   3809\u001b[0m     \u001b[39mself\u001b[39m\u001b[39m.\u001b[39m_check_indexing_error(key)\n",
      "\u001b[0;31mKeyError\u001b[0m: 'total_objets_perdus'"
     ]
    }
   ],
   "source": [
    "# Calculez le taux de densité pour chaque gare\n",
    "df_2019['taux_densité'] = (df_2019['total_objets_perdus'] / df_2019['total_voyageurs']) * 1000000\n",
    "\n",
    "# Affichez le dataframe avec la nouvelle colonne ajoutée\n",
    "print(df_2019.head())"
   ]
  }
 ],
 "metadata": {
  "kernelspec": {
   "display_name": "machine_learning",
   "language": "python",
   "name": "python3"
  },
  "language_info": {
   "codemirror_mode": {
    "name": "ipython",
    "version": 3
   },
   "file_extension": ".py",
   "mimetype": "text/x-python",
   "name": "python",
   "nbconvert_exporter": "python",
   "pygments_lexer": "ipython3",
   "version": "3.10.9"
  },
  "orig_nbformat": 4,
  "vscode": {
   "interpreter": {
    "hash": "6372ac1f96e6a574de8fb7db2482e4b51a9c7365ff441969ce58324c2dcfaf16"
   }
  }
 },
 "nbformat": 4,
 "nbformat_minor": 2
}
